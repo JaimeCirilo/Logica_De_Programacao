{
 "cells": [
  {
   "cell_type": "code",
   "execution_count": null,
   "id": "af8df669",
   "metadata": {},
   "outputs": [],
   "source": [
    "#Faça um Programa que leia 20 números inteiros e armazene-os num vetor. \n",
    "#Armazene os números pares no vetor PAR e os números IMPARES no vetor impar. Imprima os três vetores.\n",
    "print(\"DIGITE 20 NÚMEROS INTEIROS\")\n",
    "lista_numeros = []\n",
    "for n in range(0,20):\n",
    "    var = input(f\"Digite o {n+1}º número: \")\n",
    "    lista_numeros.append(int(var))\n",
    "par = [x for x in lista_numeros if x%2==0]\n",
    "impar = [x for x in lista_numeros if x%2==1]\n",
    "\n",
    "print(f\"OS NÚMEROS PARES DA LISTA SÃO: {par}\")\n",
    "print(f\"OS NÚMEROS ÍMPARES DA LISTA SÃO: {impar}\")"
   ]
  }
 ],
 "metadata": {
  "kernelspec": {
   "display_name": "Python 3 (ipykernel)",
   "language": "python",
   "name": "python3"
  },
  "language_info": {
   "codemirror_mode": {
    "name": "ipython",
    "version": 3
   },
   "file_extension": ".py",
   "mimetype": "text/x-python",
   "name": "python",
   "nbconvert_exporter": "python",
   "pygments_lexer": "ipython3",
   "version": "3.11.3"
  }
 },
 "nbformat": 4,
 "nbformat_minor": 5
}
