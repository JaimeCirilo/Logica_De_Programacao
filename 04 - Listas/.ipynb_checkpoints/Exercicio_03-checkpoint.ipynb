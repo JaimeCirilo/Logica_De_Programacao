{
 "cells": [
  {
   "cell_type": "code",
   "execution_count": null,
   "id": "203d787e",
   "metadata": {},
   "outputs": [],
   "source": [
    "#3. Faça um Programa que leia 4 notas, mostre as notas e a média na tela.\n",
    "lista_notas = []\n",
    "for n in range(0,4):\n",
    "    nota = input(f\"Digite a nota {n + 1}:\")\n",
    "    lista_notas.append(float(nota))\n",
    "print(f\"AS NOTAS DO ALUNO FORAM: {lista_notas}\")\n",
    "print(f\"A média das notas foi: {sum(lista_notas)/len(lista_notas)}\")"
   ]
  }
 ],
 "metadata": {
  "kernelspec": {
   "display_name": "Python 3 (ipykernel)",
   "language": "python",
   "name": "python3"
  },
  "language_info": {
   "codemirror_mode": {
    "name": "ipython",
    "version": 3
   },
   "file_extension": ".py",
   "mimetype": "text/x-python",
   "name": "python",
   "nbconvert_exporter": "python",
   "pygments_lexer": "ipython3",
   "version": "3.11.3"
  }
 },
 "nbformat": 4,
 "nbformat_minor": 5
}
