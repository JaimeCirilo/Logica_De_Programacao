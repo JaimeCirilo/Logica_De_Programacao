{
 "cells": [
  {
   "cell_type": "code",
   "execution_count": null,
   "id": "1e4bc875",
   "metadata": {},
   "outputs": [],
   "source": [
    "#1. Faça um Programa que leia um vetor de 5 números inteiros e mostre-os.\n",
    "print(\"DIGITE 5 NÚMEROS\")\n",
    "lista = []\n",
    "for n in range(0,5):\n",
    "    var = input(f\"Número {n + 1}: \")\n",
    "    lista.append(var)\n",
    "print(\"Os valores contidos na lista são:\")\n",
    "print(lista)"
   ]
  }
 ],
 "metadata": {
  "kernelspec": {
   "display_name": "Python 3 (ipykernel)",
   "language": "python",
   "name": "python3"
  },
  "language_info": {
   "codemirror_mode": {
    "name": "ipython",
    "version": 3
   },
   "file_extension": ".py",
   "mimetype": "text/x-python",
   "name": "python",
   "nbconvert_exporter": "python",
   "pygments_lexer": "ipython3",
   "version": "3.11.3"
  }
 },
 "nbformat": 4,
 "nbformat_minor": 5
}
