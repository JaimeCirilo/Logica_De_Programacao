{
 "cells": [
  {
   "cell_type": "code",
   "execution_count": 1,
   "id": "93bf26ae",
   "metadata": {},
   "outputs": [
    {
     "name": "stdout",
     "output_type": "stream",
     "text": [
      "Digite 5 números\n",
      "Digite o 1º número: 10\n",
      "Digite o 2º número: 10\n",
      "Digite o 3º número: 10\n",
      "Digite o 4º número: 10\n",
      "Digite o 5º número: 10\n",
      "OS NÚMEROS DIGITADOS FORAM: [10, 10, 10, 10, 10]\n",
      "SOMA DOS NÚMEROS: 50\n",
      "MULTIPLICAÇÃO ENTRE OS NÚMEROS: 100000\n"
     ]
    }
   ],
   "source": [
    "#Faça um Programa que leia um vetor de 5 números inteiros,\n",
    "#mostre a soma, a multiplicação e os números.\n",
    "print(\"Digite 5 números\")\n",
    "numeros = []\n",
    "numero = 0\n",
    "multiplicacao = 1\n",
    "soma = 0\n",
    "for n in range(0,5):\n",
    "    numero = int(input(f\"Digite o {n+1}º número: \"))\n",
    "    numeros.append(numero)\n",
    "    multiplicacao *= numero\n",
    "    soma += numero\n",
    "\n",
    "print(f\"OS NÚMEROS DIGITADOS FORAM: {numeros}\")\n",
    "print(f\"SOMA DOS NÚMEROS: {soma}\")\n",
    "print(f\"MULTIPLICAÇÃO ENTRE OS NÚMEROS: {multiplicacao}\")"
   ]
  }
 ],
 "metadata": {
  "kernelspec": {
   "display_name": "Python 3 (ipykernel)",
   "language": "python",
   "name": "python3"
  },
  "language_info": {
   "codemirror_mode": {
    "name": "ipython",
    "version": 3
   },
   "file_extension": ".py",
   "mimetype": "text/x-python",
   "name": "python",
   "nbconvert_exporter": "python",
   "pygments_lexer": "ipython3",
   "version": "3.11.3"
  }
 },
 "nbformat": 4,
 "nbformat_minor": 5
}
