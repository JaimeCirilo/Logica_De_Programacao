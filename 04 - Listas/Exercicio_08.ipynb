{
 "cells": [
  {
   "cell_type": "code",
   "execution_count": 2,
   "id": "3cc79cb6",
   "metadata": {},
   "outputs": [
    {
     "name": "stdout",
     "output_type": "stream",
     "text": [
      "Digite a idade do 1º usuário: 10\n",
      "Digite a altura do 1º usuário: 1.60\n",
      "Digite a idade do 2º usuário: 20\n",
      "Digite a altura do 2º usuário: 1.70\n",
      "Digite a idade do 3º usuário: 15\n",
      "Digite a altura do 3º usuário: 1.88\n",
      "Digite a idade do 4º usuário: 22\n",
      "Digite a altura do 4º usuário: 1.78\n",
      "Digite a idade do 5º usuário: 18\n",
      "Digite a altura do 5º usuário: 1.65\n",
      "Idades:[10, 20, 15, 22, 18]\n",
      "Altura:[1.6, 1.7, 1.88, 1.78, 1.65]\n",
      "----------------------\n",
      "Idades:[18, 22, 15, 20, 10]\n",
      "Altura:[1.65, 1.78, 1.88, 1.7, 1.6]\n"
     ]
    }
   ],
   "source": [
    "#Faça um Programa que peça a idade e a altura de 5 pessoas, \n",
    "#armazene cada informação no seu respectivo vetor. \n",
    "#Imprima a idade e a altura na ordem inversa a ordem lida.\n",
    "\n",
    "lista_idade = []\n",
    "lista_altura = []\n",
    "var = 0\n",
    "\n",
    "for n in range(0,5):\n",
    "    var = int(input(f\"Digite a idade do {n+1}º usuário: \"))\n",
    "    lista_idade.append(var)\n",
    "    var = float(input(f\"Digite a altura do {n+1}º usuário: \"))\n",
    "    lista_altura.append(var)\n",
    "\n",
    "print(f\"Idades:{lista_idade}\")\n",
    "print(f\"Altura:{lista_altura}\")\n",
    "print(\"----------------------\")\n",
    "lista_idade.reverse()\n",
    "lista_altura.reverse()\n",
    "print(f\"Idades:{lista_idade}\")\n",
    "print(f\"Altura:{lista_altura}\")\n"
   ]
  }
 ],
 "metadata": {
  "kernelspec": {
   "display_name": "Python 3 (ipykernel)",
   "language": "python",
   "name": "python3"
  },
  "language_info": {
   "codemirror_mode": {
    "name": "ipython",
    "version": 3
   },
   "file_extension": ".py",
   "mimetype": "text/x-python",
   "name": "python",
   "nbconvert_exporter": "python",
   "pygments_lexer": "ipython3",
   "version": "3.11.3"
  }
 },
 "nbformat": 4,
 "nbformat_minor": 5
}
