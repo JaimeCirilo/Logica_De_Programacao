{
 "cells": [
  {
   "cell_type": "code",
   "execution_count": 6,
   "id": "e37549b8",
   "metadata": {},
   "outputs": [
    {
     "name": "stdout",
     "output_type": "stream",
     "text": [
      "Digite o 1º número da primeira lista: a\n",
      "Digite o 1º número da segunda lista: 1\n",
      "Digite o 2º número da primeira lista: b\n",
      "Digite o 2º número da segunda lista: 2\n",
      "Digite o 3º número da primeira lista: c\n",
      "Digite o 3º número da segunda lista: 3\n",
      "Digite o 4º número da primeira lista: d\n",
      "Digite o 4º número da segunda lista: 4\n",
      "Digite o 5º número da primeira lista: e\n",
      "Digite o 5º número da segunda lista: 5\n",
      "Digite o 6º número da primeira lista: f6\n",
      "Digite o 6º número da segunda lista: 6\n",
      "Digite o 7º número da primeira lista: g\n",
      "Digite o 7º número da segunda lista: 7\n",
      "Digite o 8º número da primeira lista: h\n",
      "Digite o 8º número da segunda lista: 8\n",
      "Digite o 9º número da primeira lista: i\n",
      "Digite o 9º número da segunda lista: 9\n",
      "Digite o 10º número da primeira lista: j\n",
      "Digite o 10º número da segunda lista: 10\n",
      "LISTA 1: ['a', 'b', 'c', 'd', 'e', 'f6', 'g', 'h', 'i', 'j']\n",
      "LISTA 2: ['1', '2', '3', '4', '5', '6', '7', '8', '9', '10']\n",
      "LISTA INTERCALADA: ['a', '1', 'b', '2', 'c', '3', 'd', '4', 'e', '5', 'f6', '6', 'g', '7', 'h', '8', 'i', '9', 'j', '10']\n"
     ]
    }
   ],
   "source": [
    "#Faça um Programa que leia dois vetores com 10 elementos cada. Gere um terceiro vetor de 20 elementos, \n",
    "#cujos valores deverão ser compostos pelos elementos intercalados dos dois outros vetores.\n",
    "\n",
    "lista_1 = []\n",
    "lista_2 = []\n",
    "lista_completa = []\n",
    "for n in range(0,10):\n",
    "    var = input(f\"Digite o {n+1}º número da primeira lista: \")\n",
    "    lista_1.append(var)\n",
    "    var = input(f\"Digite o {n+1}º número da segunda lista: \")\n",
    "    lista_2.append(var)\n",
    "    \n",
    "for n in range(0,10):\n",
    "    lista_completa.append(lista_1[n])\n",
    "    lista_completa.append(lista_2[n])\n",
    "\n",
    "print(f\"LISTA 1: {lista_1}\")\n",
    "print(f\"LISTA 2: {lista_2}\")\n",
    "print(f\"LISTA INTERCALADA: {lista_completa}\")"
   ]
  }
 ],
 "metadata": {
  "kernelspec": {
   "display_name": "Python 3 (ipykernel)",
   "language": "python",
   "name": "python3"
  },
  "language_info": {
   "codemirror_mode": {
    "name": "ipython",
    "version": 3
   },
   "file_extension": ".py",
   "mimetype": "text/x-python",
   "name": "python",
   "nbconvert_exporter": "python",
   "pygments_lexer": "ipython3",
   "version": "3.11.3"
  }
 },
 "nbformat": 4,
 "nbformat_minor": 5
}
