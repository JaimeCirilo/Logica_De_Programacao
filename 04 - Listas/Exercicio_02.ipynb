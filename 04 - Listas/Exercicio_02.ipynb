{
 "cells": [
  {
   "cell_type": "code",
   "execution_count": null,
   "id": "724cc7bb",
   "metadata": {},
   "outputs": [],
   "source": [
    "#2. Faça um Programa que leia um vetor de 10 números reais e mostre-os na ordem inversa.\n",
    "print(\"DIGITE 10 NÚMEROS REAIS\")\n",
    "lista_r = []\n",
    "for n in range(0,10):\n",
    "    valor = input(f\"Digite o {n+1}º valor: \")\n",
    "    lista_r.append(valor)\n",
    "    \n",
    "print(\"OS VALORES DA LISTA INVERTIDA SÃO: \")\n",
    "print(lista_r[::-1])"
   ]
  }
 ],
 "metadata": {
  "kernelspec": {
   "display_name": "Python 3 (ipykernel)",
   "language": "python",
   "name": "python3"
  },
  "language_info": {
   "codemirror_mode": {
    "name": "ipython",
    "version": 3
   },
   "file_extension": ".py",
   "mimetype": "text/x-python",
   "name": "python",
   "nbconvert_exporter": "python",
   "pygments_lexer": "ipython3",
   "version": "3.11.3"
  }
 },
 "nbformat": 4,
 "nbformat_minor": 5
}
