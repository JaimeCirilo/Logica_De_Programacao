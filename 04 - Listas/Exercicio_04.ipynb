{
 "cells": [
  {
   "cell_type": "code",
   "execution_count": null,
   "id": "1dbd3c47",
   "metadata": {},
   "outputs": [],
   "source": [
    "#4. Faça um Programa que leia um vetor de 10 caracteres, e diga quantas consoantes foram lidas. Imprima as consoantes.\n",
    "lista_caracter = []\n",
    "\n",
    "for n in range(0,10):\n",
    "    var = input(f\"Digite o caracter {n+1}: \")\n",
    "    lista_caracter.append(var)\n",
    "\n",
    "lista_num = ['1','2','3','4','5','6','7','8','9','0']\n",
    "lista_vogais = ['a','e','i','o','u']\n",
    "\n",
    "for c in lista_num:\n",
    "    while (c in lista_caracter):\n",
    "        lista_caracter.remove(c)\n",
    "\n",
    "for v in lista_vogais:\n",
    "    while (v in lista_caracter):\n",
    "        lista_caracter.remove(v)\n",
    "        \n",
    "print(f\"As consoantes que a lista possue são: {lista_caracter}\")\n",
    "print(f\"A quantidade de consoantes na lista são: {len(lista_caracter)}\")"
   ]
  }
 ],
 "metadata": {
  "kernelspec": {
   "display_name": "Python 3 (ipykernel)",
   "language": "python",
   "name": "python3"
  },
  "language_info": {
   "codemirror_mode": {
    "name": "ipython",
    "version": 3
   },
   "file_extension": ".py",
   "mimetype": "text/x-python",
   "name": "python",
   "nbconvert_exporter": "python",
   "pygments_lexer": "ipython3",
   "version": "3.11.3"
  }
 },
 "nbformat": 4,
 "nbformat_minor": 5
}
