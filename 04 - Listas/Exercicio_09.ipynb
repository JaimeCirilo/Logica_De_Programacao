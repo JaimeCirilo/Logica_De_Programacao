{
 "cells": [
  {
   "cell_type": "code",
   "execution_count": 5,
   "id": "eadd1551",
   "metadata": {},
   "outputs": [
    {
     "name": "stdout",
     "output_type": "stream",
     "text": [
      "Digite o 1º número: 10\n",
      "Digite o 2º número: 20\n",
      "Digite o 3º número: 30\n",
      "Digite o 4º número: 40\n",
      "Digite o 5º número: 50\n",
      "Digite o 6º número: 60\n",
      "Digite o 7º número: 70\n",
      "Digite o 8º número: 80\n",
      "Digite o 9º número: 90\n",
      "Digite o 10º número: 100\n",
      "Lista Adicionada: [10.0, 20.0, 30.0, 40.0, 50.0, 60.0, 70.0, 80.0, 90.0, 100.0]\n",
      "---------------------------------\n",
      "Quadrado da Lista Adicionada: [100.0, 400.0, 900.0, 1600.0, 2500.0, 3600.0, 4900.0, 6400.0, 8100.0, 10000.0]\n",
      "SOMA DOS QUADRADOS DO VETOR: 38500.0\n"
     ]
    }
   ],
   "source": [
    "#Faça um Programa que leia um vetor A com 10 números inteiros, \n",
    "#calcule e mostre a soma dos quadrados dos elementos do vetor.\n",
    "lista_numeros = []\n",
    "for n in range(0,10):\n",
    "    var_num = float(input(f\"Digite o {n+1}º número: \"))\n",
    "    lista_numeros.append(var_num)\n",
    "lista_quadrados = [x**2 for x in lista_numeros]\n",
    "print(f\"Lista Adicionada: {lista_numeros}\")\n",
    "print(f\"---------------------------------\")\n",
    "print(f\"Quadrado da Lista Adicionada: {lista_quadrados}\")\n",
    "print(f\"SOMA DOS QUADRADOS DO VETOR: {sum(lista_quadrados)}\")\n"
   ]
  }
 ],
 "metadata": {
  "kernelspec": {
   "display_name": "Python 3 (ipykernel)",
   "language": "python",
   "name": "python3"
  },
  "language_info": {
   "codemirror_mode": {
    "name": "ipython",
    "version": 3
   },
   "file_extension": ".py",
   "mimetype": "text/x-python",
   "name": "python",
   "nbconvert_exporter": "python",
   "pygments_lexer": "ipython3",
   "version": "3.11.3"
  }
 },
 "nbformat": 4,
 "nbformat_minor": 5
}
