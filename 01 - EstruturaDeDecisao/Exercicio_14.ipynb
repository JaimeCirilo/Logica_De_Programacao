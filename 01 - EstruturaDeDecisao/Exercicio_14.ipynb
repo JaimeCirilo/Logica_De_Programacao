{
 "cells": [
  {
   "cell_type": "code",
   "execution_count": 23,
   "id": "871f58a5",
   "metadata": {},
   "outputs": [
    {
     "name": "stdout",
     "output_type": "stream",
     "text": [
      "Digite a primeira nota: 8\n",
      "Digite a segunda nota: 9\n",
      "Nota 1  : 8\n",
      "Nota 2  : 9\n",
      "Média   : 8.5\n",
      "Conceito: \n",
      "Situacao: \n"
     ]
    }
   ],
   "source": [
    "#1) O programa deve receber duas notas do aluno;\n",
    "nota1 = input(\"Digite a primeira nota: \")\n",
    "nota2 = input(\"Digite a segunda nota: \")\n",
    "\n",
    "#2) Calcular a média do aluno;\n",
    "media = (float(nota1) + float(nota2)) / 2\n",
    "conceito = \"\"\n",
    "situacao = \"\"\n",
    "\n",
    "#3) Identificar (ou escolher) o conceito do aluno na disciplina;\n",
    "if media>=9 and media<=10:\n",
    "    conceito = \"A\"\n",
    "    situacao = \"APROVADO\"\n",
    "elif media>=7.5 and media<9:\n",
    "    conceito = \"B\"\n",
    "    situacao = \"APROVADO\"\n",
    "elif media>=6 and media<7.5:\n",
    "    conceito = \"C\"\n",
    "    situacao = \"APROVADO\"\n",
    "elif media>=4 and media<6:\n",
    "    conceito = \"D\"\n",
    "    situacao = \"REPROVADO\"\n",
    "elif media>=0 and media<4:\n",
    "    conceito = \"E\"\n",
    "    situacao = \"REPROVADO\"\n",
    "\n",
    "#4) Mostrar na tela as notas do aluno; mostrar a média; mostrar o Conceito; \n",
    "print(f\"Nota 1  : {nota1}\")\n",
    "print(f\"Nota 2  : {nota2}\")\n",
    "print(f\"Média   : {media}\")\n",
    "print(f\"Conceito: {conceito}\")\n",
    "print(f\"Situacao: {situacao}\")"
   ]
  }
 ],
 "metadata": {
  "kernelspec": {
   "display_name": "Python 3 (ipykernel)",
   "language": "python",
   "name": "python3"
  },
  "language_info": {
   "codemirror_mode": {
    "name": "ipython",
    "version": 3
   },
   "file_extension": ".py",
   "mimetype": "text/x-python",
   "name": "python",
   "nbconvert_exporter": "python",
   "pygments_lexer": "ipython3",
   "version": "3.11.3"
  }
 },
 "nbformat": 4,
 "nbformat_minor": 5
}
