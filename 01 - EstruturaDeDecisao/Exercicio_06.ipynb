{
 "cells": [
  {
   "cell_type": "code",
   "execution_count": null,
   "id": "03e726d1",
   "metadata": {},
   "outputs": [],
   "source": [
    "#PRIMEIRA PARTE\n",
    "#RECEBER OS NÚMEROS\n",
    "numero1 = float(input(\"Digite o primero número: \"))\n",
    "numero2 = float(input(\"Digite o segundo número: \"))\n",
    "numero3 = float(input(\"Digite o terceiro número: \"))\n",
    "\n",
    "#SEGUNDA PARTE\n",
    "#CRIAR UMA VARIAVEL AUXILIAR COM VALOR INICIAL IGUAL AO DA VARIAVEL numero1\n",
    "#ESSA VARIAVEL SERVIRÁ PARA FAZER COMPARAÇÃO COM OS OUTROS VALORES\n",
    "variavel_auxiliar = numero1\n",
    "\n",
    "#TERCEIRA PARTE\n",
    "#CRIAR UMA ESTRUTURA DE VERIFICAÇÃO PARA VER QUAL NÚMERO É MAIOR\n",
    "if(variavel_auxiliar<numero2):\n",
    "    variavel_auxiliar = numero2\n",
    "\n",
    "if(variavel_auxiliar<numero3):\n",
    "    variavel_auxiliar = numero3\n",
    "\n",
    "print(\"O MAIOR NÚMERO É: {}\".format(variavel_auxiliar))"
   ]
  }
 ],
 "metadata": {
  "kernelspec": {
   "display_name": "Python 3 (ipykernel)",
   "language": "python",
   "name": "python3"
  },
  "language_info": {
   "codemirror_mode": {
    "name": "ipython",
    "version": 3
   },
   "file_extension": ".py",
   "mimetype": "text/x-python",
   "name": "python",
   "nbconvert_exporter": "python",
   "pygments_lexer": "ipython3",
   "version": "3.11.3"
  }
 },
 "nbformat": 4,
 "nbformat_minor": 5
}
