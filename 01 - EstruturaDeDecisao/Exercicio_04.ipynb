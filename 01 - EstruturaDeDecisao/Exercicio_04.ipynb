{
 "cells": [
  {
   "cell_type": "code",
   "execution_count": null,
   "id": "87dccf12",
   "metadata": {},
   "outputs": [],
   "source": [
    "#Faça um Programa que verifique se uma letra digitada é vogal ou consoante.\n",
    "\n",
    "#PRIMEIRA PARTE\n",
    "print(\"***VERIFICADOR DE LETRA***\")\n",
    "print(\"Este programa verifica se a letra digitada é uma VOGAL ou CONSOANTE!\")\n",
    "letra = input(\"Digite a letra: \")\n",
    "lista_vogal = ['A','E','I','O','U']\n",
    "\n",
    "#SEGUNDA PARTE\n",
    "#VERIFICA SE A LETRA É UMA VOGAL OU CONSOANTE\n",
    "if(letra.upper() in lista_vogal):\n",
    "    #TERCEIRA PARTE\n",
    "    #SE A CONDIÇÃO FOR VERIDADEIRA ->  letra está dentro de lista_vogal (A LETRA É UMA VOGAL)\n",
    "    print(\"A letra {} é uma vogal!\".format(letra))\n",
    "elif(letra.isnumeric()):\n",
    "    #SE A CONDIÇÃO FOR VERIDADEIRA ->  variavel letra for um número\n",
    "    print(\"O valor {} digitado é um número!\".format(letra))\n",
    "else:\n",
    "    #SE A CONDIÇÃO FOR FALSA ->  letra não está dentro de lista_vogal (A LETRA É UMA CONSOANTE)\n",
    "    print(\"A letra {} é uma consoante!\".format(letra))\n"
   ]
  }
 ],
 "metadata": {
  "kernelspec": {
   "display_name": "Python 3 (ipykernel)",
   "language": "python",
   "name": "python3"
  },
  "language_info": {
   "codemirror_mode": {
    "name": "ipython",
    "version": 3
   },
   "file_extension": ".py",
   "mimetype": "text/x-python",
   "name": "python",
   "nbconvert_exporter": "python",
   "pygments_lexer": "ipython3",
   "version": "3.11.3"
  }
 },
 "nbformat": 4,
 "nbformat_minor": 5
}
