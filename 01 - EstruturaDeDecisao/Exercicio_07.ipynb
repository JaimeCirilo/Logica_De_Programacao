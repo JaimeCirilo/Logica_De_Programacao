{
 "cells": [
  {
   "cell_type": "code",
   "execution_count": null,
   "id": "920761e8",
   "metadata": {},
   "outputs": [],
   "source": [
    "#Faça um Programa que leia três números e mostre o maior e o menor número deles.\n",
    "\n",
    "#1) Digitar os 3 números\n",
    "n1 = float(input(\"Digite o número 1: \"))\n",
    "n2 = float(input(\"Digite o número 2: \"))\n",
    "n3 = float(input(\"Digite o número 3: \"))\n",
    "\n",
    "#2) Escolher quem é o maior e o menor número\n",
    "maior_n = n1\n",
    "menor_n = n1\n",
    "\n",
    "if maior_n < n2:\n",
    "    maior_n = n2\n",
    "    \n",
    "if maior_n < n3:\n",
    "    maior_n = n3\n",
    "\n",
    "if menor_n > n2:\n",
    "    menor_n = n2\n",
    "\n",
    "if menor_n > n3:\n",
    "    menor_n = n3\n",
    "    \n",
    "#3) Mostrar o resultado\n",
    "print(f\"O maior número digitado foi: {maior_n}\")\n",
    "print(f\"O menor número digitado foi: {menor_n}\")"
   ]
  }
 ],
 "metadata": {
  "kernelspec": {
   "display_name": "Python 3 (ipykernel)",
   "language": "python",
   "name": "python3"
  },
  "language_info": {
   "codemirror_mode": {
    "name": "ipython",
    "version": 3
   },
   "file_extension": ".py",
   "mimetype": "text/x-python",
   "name": "python",
   "nbconvert_exporter": "python",
   "pygments_lexer": "ipython3",
   "version": "3.11.3"
  }
 },
 "nbformat": 4,
 "nbformat_minor": 5
}
