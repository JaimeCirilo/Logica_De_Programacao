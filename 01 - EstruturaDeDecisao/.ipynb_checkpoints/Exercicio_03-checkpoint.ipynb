{
 "cells": [
  {
   "cell_type": "code",
   "execution_count": null,
   "id": "4f07747a",
   "metadata": {},
   "outputs": [],
   "source": [
    "#Faça um Programa que verifique se uma letra digitada é \"F\" ou \"M\". \n",
    "#Conforme a letra escrever: F - Feminino, M - Masculino, Sexo Inválido.\n",
    "\n",
    "#PRIMEIRA PARTE\n",
    "print(\"***VERIFICADOR DE LETRA***\")\n",
    "print(\"Este programa verifica o sexo do usuário de acordo com a letra digitada!\")\n",
    "print(\"F - FEMININO\")\n",
    "print(\"M - MASCULINO\")\n",
    "print(\"OUTRA LETRA - Sexo Inválido\")\n",
    "letra = input(\"Digite a letra: \")\n",
    "\n",
    "#SEGUNDA PARTE\n",
    "if(letra.upper()==\"F\"):\n",
    "    #TERCEIRA PARTE\n",
    "    #SE A CONDIÇÃO FOR VERIDADEIRA ->  letra==\"F\"\n",
    "    print(\"SEXO FEMININO\")\n",
    "elif(letra.upper()==\"M\"):\n",
    "    #TERCEIRA PARTE\n",
    "    #SE A CONDIÇÃO FOR VERIDADEIRA ->  letra==\"M\"\n",
    "    print(\"SEXO MASCULINO!\")\n",
    "else:\n",
    "    #TERCEIRA PARTE\n",
    "    #QUALQUER OUTRA LETRA -> SE A CONDIÇÃO FOR FALSA (SE NÃO FOR NEM A LETRA F NEM A LETRA M)\n",
    "    print(\"SEXO INVÁLIDO!\")"
   ]
  }
 ],
 "metadata": {
  "kernelspec": {
   "display_name": "Python 3 (ipykernel)",
   "language": "python",
   "name": "python3"
  },
  "language_info": {
   "codemirror_mode": {
    "name": "ipython",
    "version": 3
   },
   "file_extension": ".py",
   "mimetype": "text/x-python",
   "name": "python",
   "nbconvert_exporter": "python",
   "pygments_lexer": "ipython3",
   "version": "3.11.3"
  }
 },
 "nbformat": 4,
 "nbformat_minor": 5
}
