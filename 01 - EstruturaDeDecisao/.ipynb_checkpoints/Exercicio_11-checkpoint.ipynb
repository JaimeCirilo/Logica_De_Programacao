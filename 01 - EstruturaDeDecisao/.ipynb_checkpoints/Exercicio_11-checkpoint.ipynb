{
 "cells": [
  {
   "cell_type": "code",
   "execution_count": null,
   "id": "8b0f82e9",
   "metadata": {},
   "outputs": [],
   "source": [
    "#1) DIGITAR O SALÁRIO DO COLABORADOR\n",
    "salario = float(input(\"Digite o salário do colaborador: \"))\n",
    "taxa = 0\n",
    "\n",
    "#2) CALCULAR O NOVO SALÁRIO DO COLABORADOR\n",
    "if salario<=280:\n",
    "    taxa = 0.2\n",
    "elif salario>280 and salario<=700:\n",
    "    taxa = 0.15\n",
    "elif salario>700 and salario<=1500:\n",
    "    taxa = 0.1\n",
    "elif salario>1500:\n",
    "    taxa = 0.05\n",
    "\n",
    "reajuste = salario * taxa\n",
    "novo_salario = reajuste + salario\n",
    "\n",
    "#3) MOSTRAR NA TELA AS INFORMAÇÕES SOLICITADAS\n",
    "    # SALARIO ANTES DO REAJUSTE\n",
    "print(f\"SALARIO ANTES DO REAJUSTE: R$ {salario}\")\n",
    "    # O PERCENTUAL DE AUMENTO APLICADO\n",
    "print(f\"PERCENTUAL DE AUMENTO: {taxa*100}%\")\n",
    "    # VALOR DO AUMENTO\n",
    "print(f\"VALOR DE AUMENTO: R$ {reajuste}\")\n",
    "    # NOVO SALARIO\n",
    "print(f\"NOVO SALÁRIO: R${novo_salario}\")"
   ]
  }
 ],
 "metadata": {
  "kernelspec": {
   "display_name": "Python 3 (ipykernel)",
   "language": "python",
   "name": "python3"
  },
  "language_info": {
   "codemirror_mode": {
    "name": "ipython",
    "version": 3
   },
   "file_extension": ".py",
   "mimetype": "text/x-python",
   "name": "python",
   "nbconvert_exporter": "python",
   "pygments_lexer": "ipython3",
   "version": "3.11.3"
  }
 },
 "nbformat": 4,
 "nbformat_minor": 5
}
