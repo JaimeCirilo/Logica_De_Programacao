{
 "cells": [
  {
   "cell_type": "code",
   "execution_count": null,
   "id": "5bd1bb07",
   "metadata": {},
   "outputs": [],
   "source": [
    "#Faça um programa para a leitura de duas notas parciais de um aluno. \n",
    "#O programa deve calcular a média alcançada por aluno e apresentar:\n",
    "#A mensagem \"Aprovado\", se a média alcançada for maior ou igual a sete;\n",
    "#A mensagem \"Reprovado\", se a média for menor do que sete;\n",
    "#A mensagem \"Aprovado com Distinção\", se a média for igual a dez.\n",
    "\n",
    "#PRIMEIRA PARTE\n",
    "#APRESENTAÇÃO DO PROGRAMA E RECEBIMENTO DAS DUAS NOTAS DO ALUNO\n",
    "print(\"***PROGRAMA PARA VERIFICAR SE O ALUNO ESTÁ APROVADO***\")\n",
    "print(\"INFORME AS DUAS NOTAS DO ALUNO\")\n",
    "nota1 = input(\"Digite a primeira nota do aluno: \")\n",
    "nota2 = input(\"Digite a segunda nota do aluno: \")\n",
    "\n",
    "#SEGUNDA PARTE\n",
    "#CALCULANDO A MÉDIA DAS DUAS NOTAS\n",
    "media = (float(nota1) + float(nota2))/2\n",
    "\n",
    "#TERCEIRA PARTE\n",
    "#VERIFICA QUAL É A MÉDIA DO ALUNO\n",
    "if(media==10.00):\n",
    "    #QUARTA PARTE\n",
    "    #SE A CONDIÇÃO media==10.00 FOR VERDADEIRA\n",
    "    print(\"A média do aluno foi: {}\".format(media))\n",
    "    print(\"ALUNO APROVADO COM DESTINÇÃO!\")\n",
    "elif(media<10.00 and media>=7.00):\n",
    "    #SE A CONDIÇÃO media<10.00 and media>=7.00 FOR VERDADEIRA\n",
    "    #QUARTA PARTE\n",
    "    print(\"A média do aluno foi: {}\".format(media))\n",
    "    print(\"ALUNO APROVADO!\")\n",
    "else:\n",
    "    #QUARTA PARTE\n",
    "    #SE A CONDIÇÃO FOR FALSA -> MEDIA MENOR QUE 7.00 \n",
    "    print(\"A média do aluno foi: {}\".format(media))\n",
    "    print(\"ALUNO REPROVADO!\")"
   ]
  }
 ],
 "metadata": {
  "kernelspec": {
   "display_name": "Python 3 (ipykernel)",
   "language": "python",
   "name": "python3"
  },
  "language_info": {
   "codemirror_mode": {
    "name": "ipython",
    "version": 3
   },
   "file_extension": ".py",
   "mimetype": "text/x-python",
   "name": "python",
   "nbconvert_exporter": "python",
   "pygments_lexer": "ipython3",
   "version": "3.11.3"
  }
 },
 "nbformat": 4,
 "nbformat_minor": 5
}
