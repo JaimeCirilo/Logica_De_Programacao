{
 "cells": [
  {
   "cell_type": "code",
   "execution_count": null,
   "id": "d8a77784",
   "metadata": {},
   "outputs": [],
   "source": [
    "#1)DIGITAR HORAS TRABALHADAS\n",
    "horas_trabalho = int(input(\"Digite a quantidade de horas trabalhadas:\"))\n",
    "\n",
    "#1.1) DIGITAR O SALÁRIO POR HORA\n",
    "salario_hora = float(input(\"Digite o salário/hora: \"))\n",
    "salario_bruto = horas_trabalho * salario_hora\n",
    "\n",
    "#2)CALCULAR O IR\n",
    "taxa = 0\n",
    "if salario_bruto <=900:\n",
    "    taxa = 0\n",
    "elif salario_bruto <=1500:\n",
    "    taxa = 0.05\n",
    "elif salario_bruto <=2500:\n",
    "    taxa = 0.1\n",
    "elif salario_bruto>2500:\n",
    "    taxa = 0.2\n",
    "\n",
    "ir = taxa * salario_bruto\n",
    "\n",
    "#3) CALCULAR INSS\n",
    "inss = salario_bruto * 0.1\n",
    "\n",
    "#4) CALCULAR O FGTS\n",
    "fgts = salario_bruto *0.11\n",
    "\n",
    "#5) CALCULAR DESCONTOS\n",
    "descontos = ir + inss\n",
    "salario_liquido = salario_bruto - descontos\n",
    "#6) MOSTRAR O RESULTADO DO CALCULO NA TELA\n",
    "print(f\"(+) Salário Bruto: ({horas_trabalho} * {salario_hora})  : R$ {round(salario_bruto,2)}\")\n",
    "print(f\"      (-) IR ({taxa}%)            : R$ {round(ir,2)}\")\n",
    "print(f\"      (-) INSS (10%)            : R$ {round(ir,2)}\")\n",
    "print(f\"      FGTS (11%)                : R$ {round(fgts,2)}\")\n",
    "print(f\"      Total de descontos        : R$ {descontos}\")\n",
    "print(f\"      Salário Líquido           : R$ {salario_liquido}\")"
   ]
  }
 ],
 "metadata": {
  "kernelspec": {
   "display_name": "Python 3 (ipykernel)",
   "language": "python",
   "name": "python3"
  },
  "language_info": {
   "codemirror_mode": {
    "name": "ipython",
    "version": 3
   },
   "file_extension": ".py",
   "mimetype": "text/x-python",
   "name": "python",
   "nbconvert_exporter": "python",
   "pygments_lexer": "ipython3",
   "version": "3.11.3"
  }
 },
 "nbformat": 4,
 "nbformat_minor": 5
}
