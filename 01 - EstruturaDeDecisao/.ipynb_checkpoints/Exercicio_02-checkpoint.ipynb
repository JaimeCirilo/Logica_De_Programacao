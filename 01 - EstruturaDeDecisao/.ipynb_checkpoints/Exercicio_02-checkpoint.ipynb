{
 "cells": [
  {
   "cell_type": "code",
   "execution_count": null,
   "id": "4bd0fac7",
   "metadata": {},
   "outputs": [],
   "source": [
    "#Faça um Programa que peça um valor e mostre na tela se o valor é positivo ou negativo.\n",
    "#Primeira parte\n",
    "print(\"****VERIFICADOR DE NÚMERO****\")\n",
    "print(\"ESSE PROGRAMA VERIFICA SE UM NÚMERO É POSITIVO OU NEGATIVO\")\n",
    "numero1 = input(\"Informe o número: \")\n",
    "\n",
    "#Segunda parte\n",
    "if(int(numero1)>0):\n",
    "    #Terceira parte\n",
    "    #SE A CONDIÇÃO DER VERDADEIRO (TRUE) -> numero1>0   \n",
    "    print(\"O número é positivo!\")\n",
    "\n",
    "else:\n",
    "    #Terceira parte\n",
    "    #SE A CONDIÇÃO DER FALSO (FALSE) -> numero1>0\n",
    "        print(\"O número é negativo!\")"
   ]
  }
 ],
 "metadata": {
  "kernelspec": {
   "display_name": "Python 3 (ipykernel)",
   "language": "python",
   "name": "python3"
  },
  "language_info": {
   "codemirror_mode": {
    "name": "ipython",
    "version": 3
   },
   "file_extension": ".py",
   "mimetype": "text/x-python",
   "name": "python",
   "nbconvert_exporter": "python",
   "pygments_lexer": "ipython3",
   "version": "3.11.3"
  }
 },
 "nbformat": 4,
 "nbformat_minor": 5
}
