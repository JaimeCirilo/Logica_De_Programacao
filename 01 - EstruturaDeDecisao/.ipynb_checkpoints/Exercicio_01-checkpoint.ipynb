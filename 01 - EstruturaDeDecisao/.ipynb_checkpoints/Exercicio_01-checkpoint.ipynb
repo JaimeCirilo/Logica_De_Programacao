{
 "cells": [
  {
   "cell_type": "code",
   "execution_count": null,
   "id": "a8e5fdeb",
   "metadata": {},
   "outputs": [],
   "source": [
    "#Faça um Programa que peça dois números e imprima o maior deles.\n",
    "#Primeira parte\n",
    "numero1 = input(\"Informe o primeiro número: \")\n",
    "numero2 = input(\"Informe o segundo número: \")\n",
    "\n",
    "#Segunda parte\n",
    "if(float(numero1)>float(numero2)):\n",
    "#Terceira parte\n",
    "#SE A CONDIÇÃO DER VERDADEIRO (TRUE) -> float(numero1)>float(numero2)\n",
    "    print(\"O maior número é: {}\".format(numero1))\n",
    "else:\n",
    "#SE A CONDIÇÃO DER FALSO (FALSE) -> float(numero1)>float(numero2)\n",
    "#Terceira parte\n",
    "    print(\"O maior número é: {}\".format(numero2))"
   ]
  }
 ],
 "metadata": {
  "kernelspec": {
   "display_name": "Python 3 (ipykernel)",
   "language": "python",
   "name": "python3"
  },
  "language_info": {
   "codemirror_mode": {
    "name": "ipython",
    "version": 3
   },
   "file_extension": ".py",
   "mimetype": "text/x-python",
   "name": "python",
   "nbconvert_exporter": "python",
   "pygments_lexer": "ipython3",
   "version": "3.11.3"
  }
 },
 "nbformat": 4,
 "nbformat_minor": 5
}
