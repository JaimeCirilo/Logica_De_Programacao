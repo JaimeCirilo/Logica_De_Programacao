{
 "cells": [
  {
   "cell_type": "code",
   "execution_count": null,
   "id": "6db359a0",
   "metadata": {},
   "outputs": [],
   "source": [
    "#Faça um programa que leia um nome de usuário e a sua senha e não aceite a senha igual ao nome do usuário, \n",
    "#mostrando uma mensagem de erro e voltando a pedir as informações.\n",
    "\n",
    "while(True):\n",
    "    nome = input(\"Digite o nome do usuário: \")\n",
    "    senha = input(\"Digite a senha do usuário: \")\n",
    "    if(nome != senha):\n",
    "        print(\"USUÁRIO E SENHA VÁLIDOS!\")\n",
    "        print(\"Nome do usuário: {}\".format(nome))\n",
    "        print(\"Senha do Usuário: {}\".format(senha))\n",
    "        break\n",
    "    else:\n",
    "        print(\"USUÁRIO E SENHA NÃO PODEM SER IGUAIS!\")\n",
    "        print(\"DIGITE NOVAMENTE USUÁRIO E SENHA!\")"
   ]
  }
 ],
 "metadata": {
  "kernelspec": {
   "display_name": "Python 3 (ipykernel)",
   "language": "python",
   "name": "python3"
  },
  "language_info": {
   "codemirror_mode": {
    "name": "ipython",
    "version": 3
   },
   "file_extension": ".py",
   "mimetype": "text/x-python",
   "name": "python",
   "nbconvert_exporter": "python",
   "pygments_lexer": "ipython3",
   "version": "3.11.3"
  }
 },
 "nbformat": 4,
 "nbformat_minor": 5
}
