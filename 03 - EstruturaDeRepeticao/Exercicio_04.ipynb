{
 "cells": [
  {
   "cell_type": "code",
   "execution_count": null,
   "id": "c6cb40bb",
   "metadata": {},
   "outputs": [],
   "source": [
    "# REPETIÇÃO IDETERMINADA (while)\n",
    "# Supondo que a população de um país A seja da ordem de\n",
    "# 80000 habitantes com uma taxa anual de crescimento de 3%\n",
    "# e que a população de B seja 200000 habitantes com uma\n",
    "# taxa de crescimento de 1.5%. Faça um programa que\n",
    "# calcule e escreva o número de anos necessários para que a população do país\n",
    "# A ultrapasse ou iguale a população do país B, mantidas as taxas de crescimento.\n",
    "\n",
    "populacao_a = float(input(\"Digite o valor da população A: \"))\n",
    "populacao_b = float(input(\"Digite o valor da população B: \"))\n",
    "taxa_a = float(input(\"Digite a taxa de crescimento da população A: \"))\n",
    "taxa_b = float(input(\"Digite a taxa de crescimento da população B: \"))\n",
    "ano = 1\n",
    "\n",
    "while(True):\n",
    "    montante_a = populacao_a + populacao_a * taxa_a\n",
    "    montante_b = populacao_b + populacao_b * taxa_b\n",
    "    print(\"-----------------------------------------------\")\n",
    "    print(\"A popução A cresceu para {} no {}º ano\".format(montante_a, ano))\n",
    "    print(\"A popução B cresceu para {} no {}º ano\".format(montante_b, ano))\n",
    "    print(\"-----------------------------------------------\")\n",
    "    populacao_a = montante_a\n",
    "    populacao_b = montante_b\n",
    "    if(montante_a > montante_b):\n",
    "        break\n",
    "    ano = ano + 1\n",
    "print(\"A quantidade de anos para que a população A ultrapassasse a população B foi: \", ano)\n"
   ]
  }
 ],
 "metadata": {
  "kernelspec": {
   "display_name": "Python 3 (ipykernel)",
   "language": "python",
   "name": "python3"
  },
  "language_info": {
   "codemirror_mode": {
    "name": "ipython",
    "version": 3
   },
   "file_extension": ".py",
   "mimetype": "text/x-python",
   "name": "python",
   "nbconvert_exporter": "python",
   "pygments_lexer": "ipython3",
   "version": "3.11.3"
  }
 },
 "nbformat": 4,
 "nbformat_minor": 5
}
