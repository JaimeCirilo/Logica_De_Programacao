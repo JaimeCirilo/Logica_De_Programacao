{
 "cells": [
  {
   "cell_type": "code",
   "execution_count": null,
   "id": "c3f4ead2",
   "metadata": {},
   "outputs": [],
   "source": [
    "#Faça um programa que peça uma nota, entre zero e dez. \n",
    "#Mostre uma mensagem caso o valor seja inválido \n",
    "#e continue pedindo até que o usuário informe um valor válido.\n",
    "\n",
    "\n",
    "while(True):\n",
    "    nota = input(\"Digite uma nota entre 0 e 10: \")\n",
    "    if(nota.isalpha()):\n",
    "        print(\"Valor Inválido!\")\n",
    "    elif(float(nota)<=10.0 and float(nota)>=0.0):\n",
    "        print(\"O valor é válido!\")\n",
    "        break\n",
    "    else:\n",
    "        print(\"Valor inválido\")\n",
    "\n",
    "print(\"FIM DO PROGRAMA!\")"
   ]
  }
 ],
 "metadata": {
  "kernelspec": {
   "display_name": "Python 3 (ipykernel)",
   "language": "python",
   "name": "python3"
  },
  "language_info": {
   "codemirror_mode": {
    "name": "ipython",
    "version": 3
   },
   "file_extension": ".py",
   "mimetype": "text/x-python",
   "name": "python",
   "nbconvert_exporter": "python",
   "pygments_lexer": "ipython3",
   "version": "3.11.3"
  }
 },
 "nbformat": 4,
 "nbformat_minor": 5
}
