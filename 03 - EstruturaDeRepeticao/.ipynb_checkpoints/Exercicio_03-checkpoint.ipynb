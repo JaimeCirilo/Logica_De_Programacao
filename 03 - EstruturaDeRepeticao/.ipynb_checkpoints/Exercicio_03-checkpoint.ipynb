{
 "cells": [
  {
   "cell_type": "code",
   "execution_count": null,
   "id": "67ae6b41",
   "metadata": {},
   "outputs": [],
   "source": [
    "#Faça um programa que leia e valide as seguintes informações:\n",
    "#Nome: maior que 3 caracteres;\n",
    "#Idade: entre 0 e 150;\n",
    "#Salário: maior que zero;\n",
    "#Sexo: 'f' ou 'm';\n",
    "#Estado Civil: 's', 'c', 'v', 'd';\n",
    "\n",
    "while(True):\n",
    "    nome = input(\"Digite o nome do usuário: \")\n",
    "    idade = int(input(\"Digite a idade do usuário: \"))\n",
    "    salario = float(input(\"Digite o salário do usuário: \"))\n",
    "    sexo = input(\"Digite o sexo do usuário: \")\n",
    "    estadoCivil = input(\"Digite o estado civil do usuário: \")\n",
    "    validacao = 0\n",
    "    \n",
    "    if(len(nome)>3):\n",
    "        validacao += 1\n",
    "        print(\"VALIDAÇÃO NOME OK!\")\n",
    "\n",
    "    if(idade>0 and idade<150):\n",
    "        validacao += 1\n",
    "        print(\"VALIDAÇÃO IDADE OK!\")\n",
    "\n",
    "    if(salario > 0):\n",
    "        validacao +=1\n",
    "        print(\"VALIDAÇÃO SALARIO OK!\")\n",
    "\n",
    "    if(sexo.capitalize() == \"F\" or sexo.capitalize() == \"M\"):\n",
    "        validacao +=1\n",
    "        print(\"VALIDAÇÃO SEXO OK!\")\n",
    "\n",
    "    lista_estado_civil = [\"S\", \"C\", \"V\", \"D\"]\n",
    "\n",
    "    if(estadoCivil.capitalize() in lista_estado_civil):\n",
    "        validacao+=1\n",
    "        print(\"VALIDAÇÃO ESTADO CIVIL OK!\")\n",
    "\n",
    "    if(validacao==5):\n",
    "        print(\"AS INFORMAÇÕES PASSADAS FORAM VALIDADAS!\")\n",
    "        print(\"Nome: {} \".format(nome))\n",
    "        print(\"Idade: {} \".format(idade))\n",
    "        print(\"Salario: {}\".format(salario))\n",
    "        print(\"Sexo: {}\".format(sexo))\n",
    "        print(\"Estado Civil: {}\".format(estadoCivil))\n",
    "        break\n",
    "    else:\n",
    "        print(\"UMA OU VÁRIAS INFORMAÇÕES NÃO FORAM VALIDADAS!\")\n",
    "        print(\"REFAZER O FORMULÁRIO!\")"
   ]
  }
 ],
 "metadata": {
  "kernelspec": {
   "display_name": "Python 3 (ipykernel)",
   "language": "python",
   "name": "python3"
  },
  "language_info": {
   "codemirror_mode": {
    "name": "ipython",
    "version": 3
   },
   "file_extension": ".py",
   "mimetype": "text/x-python",
   "name": "python",
   "nbconvert_exporter": "python",
   "pygments_lexer": "ipython3",
   "version": "3.11.3"
  }
 },
 "nbformat": 4,
 "nbformat_minor": 5
}
