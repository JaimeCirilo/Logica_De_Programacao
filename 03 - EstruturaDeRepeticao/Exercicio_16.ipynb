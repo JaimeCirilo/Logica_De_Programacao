{
 "cells": [
  {
   "cell_type": "code",
   "execution_count": null,
   "id": "509a6a81",
   "metadata": {},
   "outputs": [],
   "source": [
    "#A série de Fibonacci é formada pela seqüência 0,1,1,2,3,5,8,13,21,34,55,... \n",
    "#Faça um programa que gere a série até que o valor seja maior que 500.\n",
    "lista = [0,1]\n",
    "valor = 1\n",
    "n = 0\n",
    "while(valor<500):\n",
    "    valor = lista[n] + lista[n+1]\n",
    "    lista.append(valor)\n",
    "    n = n + 1\n",
    "print(lista)"
   ]
  }
 ],
 "metadata": {
  "kernelspec": {
   "display_name": "Python 3 (ipykernel)",
   "language": "python",
   "name": "python3"
  },
  "language_info": {
   "codemirror_mode": {
    "name": "ipython",
    "version": 3
   },
   "file_extension": ".py",
   "mimetype": "text/x-python",
   "name": "python",
   "nbconvert_exporter": "python",
   "pygments_lexer": "ipython3",
   "version": "3.11.3"
  }
 },
 "nbformat": 4,
 "nbformat_minor": 5
}
