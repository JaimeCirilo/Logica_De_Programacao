{
 "cells": [
  {
   "cell_type": "code",
   "execution_count": 12,
   "id": "899f236d",
   "metadata": {},
   "outputs": [
    {
     "name": "stdout",
     "output_type": "stream",
     "text": [
      "Digite um número: 2\n",
      "Digite outro número: 2\n",
      "-----------------------------\n",
      "A soma de 2 + 2 é igual a 4\n",
      "-----------------------------\n"
     ]
    }
   ],
   "source": [
    "#Faça um Programa que peça dois números e imprima a soma.\n",
    "\n",
    "#ALGORITIMO (PASSO A PASSO)\n",
    "#1) PEDIR DOIS NÚMEROS AO USUÁRIO\n",
    "numero1 = input(\"Digite um número: \")\n",
    "numero2 = input(\"Digite outro número: \")\n",
    "\n",
    "#2) SOMAR OS DOIS NÚMEROS\n",
    "soma = int(numero1) + int(numero2)\n",
    "\n",
    "#3) IMPRIMIR SOMA (PRINT) MOSTRAR NA TELA\n",
    "print(\"-----------------------------\")\n",
    "print(f\"A soma de {numero1} + {numero2} é igual a {soma}\")\n",
    "print(\"-----------------------------\")\n"
   ]
  }
 ],
 "metadata": {
  "kernelspec": {
   "display_name": "Python 3 (ipykernel)",
   "language": "python",
   "name": "python3"
  },
  "language_info": {
   "codemirror_mode": {
    "name": "ipython",
    "version": 3
   },
   "file_extension": ".py",
   "mimetype": "text/x-python",
   "name": "python",
   "nbconvert_exporter": "python",
   "pygments_lexer": "ipython3",
   "version": "3.11.3"
  }
 },
 "nbformat": 4,
 "nbformat_minor": 5
}
