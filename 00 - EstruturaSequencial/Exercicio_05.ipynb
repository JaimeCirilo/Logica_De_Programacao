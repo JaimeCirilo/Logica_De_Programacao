{
 "cells": [
  {
   "cell_type": "code",
   "execution_count": 2,
   "id": "0488a462",
   "metadata": {},
   "outputs": [
    {
     "name": "stdout",
     "output_type": "stream",
     "text": [
      "Digite um valor em metros: 10\n",
      "O valor de 10m corresponde a 1000.0cm.\n"
     ]
    }
   ],
   "source": [
    "#Faça um Programa que converta metros para centímetros.\n",
    "\n",
    "#ALGORITIMO\n",
    "#1) LER UM DADO NUMÉRICO EM METROS\n",
    "metros = input(\"Digite um valor em metros: \")\n",
    "\n",
    "#2) CONVERTER A UNIDADE DE METROS PARA CENTIMETROS\n",
    "centimetros = float(metros) * 100\n",
    "\n",
    "#3) MOSTRAR A UNIDADE CONVERTIDA NA TELA\n",
    "print(f\"O valor de {metros}m corresponde a {centimetros}cm.\")"
   ]
  }
 ],
 "metadata": {
  "kernelspec": {
   "display_name": "Python 3 (ipykernel)",
   "language": "python",
   "name": "python3"
  },
  "language_info": {
   "codemirror_mode": {
    "name": "ipython",
    "version": 3
   },
   "file_extension": ".py",
   "mimetype": "text/x-python",
   "name": "python",
   "nbconvert_exporter": "python",
   "pygments_lexer": "ipython3",
   "version": "3.11.3"
  }
 },
 "nbformat": 4,
 "nbformat_minor": 5
}
