{
 "cells": [
  {
   "cell_type": "code",
   "execution_count": null,
   "id": "1035a84f",
   "metadata": {},
   "outputs": [],
   "source": [
    "#1) O usuário deve inserir o dado de altura no programa\n",
    "altura = float(input(\"Digite a altura desejada: \"))\n",
    "\n",
    "#2) Calcular o peso ideal para homem\n",
    "peso_h = (72.7*altura) - 58\n",
    "\n",
    "#3) Calcular o peso ideal para mulher\n",
    "peso_m = (62.1*altura) - 44.7\n",
    "\n",
    "#4) Mostrar o peso ideal para homem na tela\n",
    "print(f\"O peso ideal para homem é: {round(peso_h,2)}Kg\")\n",
    "\n",
    "#5) Mostrar o peso ideal para mulher na tela\n",
    "print(f\"O peso ideal para mulher é: {round(peso_m,2)}Kg\")"
   ]
  }
 ],
 "metadata": {
  "kernelspec": {
   "display_name": "Python 3 (ipykernel)",
   "language": "python",
   "name": "python3"
  },
  "language_info": {
   "codemirror_mode": {
    "name": "ipython",
    "version": 3
   },
   "file_extension": ".py",
   "mimetype": "text/x-python",
   "name": "python",
   "nbconvert_exporter": "python",
   "pygments_lexer": "ipython3",
   "version": "3.11.3"
  }
 },
 "nbformat": 4,
 "nbformat_minor": 5
}
