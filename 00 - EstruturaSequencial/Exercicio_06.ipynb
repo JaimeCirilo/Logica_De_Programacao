{
 "cells": [
  {
   "cell_type": "code",
   "execution_count": 4,
   "id": "1c7c8b70",
   "metadata": {},
   "outputs": [
    {
     "name": "stdout",
     "output_type": "stream",
     "text": [
      "Digite o valor do raio de um círculo: 1\n",
      "A área de um circulo com raio 1 é igual a 3.14.\n"
     ]
    }
   ],
   "source": [
    "#Faça um Programa que peça o raio de um círculo, calcule e mostre sua área.\n",
    "\n",
    "#ALGORITIMO\n",
    "#1) Solicitar raio de um circulo ao usuário\n",
    "raio = input(\"Digite o valor do raio de um círculo: \")\n",
    "\n",
    "#2) Calcular a área do circulo através do raio informado pelo usuário\n",
    "area = (float(raio)**2) * 3.14\n",
    "#3) Mostrar o resultado do calculo (área) para o usuário\n",
    "print(f\"A área de um circulo com raio {raio} é igual a {area}.\")"
   ]
  }
 ],
 "metadata": {
  "kernelspec": {
   "display_name": "Python 3 (ipykernel)",
   "language": "python",
   "name": "python3"
  },
  "language_info": {
   "codemirror_mode": {
    "name": "ipython",
    "version": 3
   },
   "file_extension": ".py",
   "mimetype": "text/x-python",
   "name": "python",
   "nbconvert_exporter": "python",
   "pygments_lexer": "ipython3",
   "version": "3.11.3"
  }
 },
 "nbformat": 4,
 "nbformat_minor": 5
}
