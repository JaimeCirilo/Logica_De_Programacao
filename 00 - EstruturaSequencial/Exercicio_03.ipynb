{
 "cells": [
  {
   "cell_type": "code",
   "execution_count": 3,
   "id": "75c48f57",
   "metadata": {},
   "outputs": [
    {
     "name": "stdout",
     "output_type": "stream",
     "text": [
      "Digite a primeira nota: 10\n",
      "Digite a segunda nota: 10\n",
      "Digite a terceira nota: 10\n",
      "Digite a quarta nota: 10\n",
      "A média dos números 10, 10, 10 e 10, é igual a 10.0.\n"
     ]
    }
   ],
   "source": [
    "#Faça um Programa que peça as 4 notas bimestrais e mostre a média.\n",
    "\n",
    "#ALGORITIMO\n",
    "#1)SOLICITAR PRIMEIRA NOTA AO USUÁRIO\n",
    "nota1 = input(\"Digite a primeira nota: \")\n",
    "#2)SOLOCITAR SEGUNDA NOTA AO USUÁRIO\n",
    "nota2 = input(\"Digite a segunda nota: \")\n",
    "#3)SOLICITAR TERCEIRA NOTA AO USUÁRIO\n",
    "nota3 = input(\"Digite a terceira nota: \")\n",
    "#4)SOLICITAR QUARTA NOTA AO USUÁRIO\n",
    "nota4 = input(\"Digite a quarta nota: \")\n",
    "\n",
    "#5)CALCULAR A MÉDIA\n",
    "media = (float(nota1) + float(nota2) + float(nota3) + float(nota4))/4\n",
    "\n",
    "#6)MOSTRAR A MÉDIA\n",
    "print(f\"A média dos números {nota1}, {nota2}, {nota3} e {nota4} é igual a {media}.\")"
   ]
  }
 ],
 "metadata": {
  "kernelspec": {
   "display_name": "Python 3 (ipykernel)",
   "language": "python",
   "name": "python3"
  },
  "language_info": {
   "codemirror_mode": {
    "name": "ipython",
    "version": 3
   },
   "file_extension": ".py",
   "mimetype": "text/x-python",
   "name": "python",
   "nbconvert_exporter": "python",
   "pygments_lexer": "ipython3",
   "version": "3.11.3"
  }
 },
 "nbformat": 4,
 "nbformat_minor": 5
}
