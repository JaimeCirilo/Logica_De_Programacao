{
 "cells": [
  {
   "cell_type": "code",
   "execution_count": null,
   "id": "f0360de1",
   "metadata": {},
   "outputs": [],
   "source": [
    "#Faça um Programa que peça a temperatura em graus Fahrenheit, transforme e mostre a temperatura em graus Celsius.\n",
    "          #C = 5 * ((F-32) / 9).\n",
    "\n",
    "#1) - SOLICITAR A TEMPERATURA EM GRAUS FAHRENNHEIT\n",
    "fahrenheit = float(input(\"Digite uma temperatura em grau Fahrenheit: \"))\n",
    "\n",
    "#2) - TRANFORMAR A TEMPERATURA DE FAHRENHEIT PARA CELSIUS\n",
    "celsius = 5 * ((fahrenheit-32)/9)\n",
    "#3) - MOSTRAR TEMPERATURA CONVERTIDA\n",
    "print(f\"A temperatura de {fahrenheit}°F é equivalente a {round(celsius,2)}°C.\")\n"
   ]
  }
 ],
 "metadata": {
  "kernelspec": {
   "display_name": "Python 3 (ipykernel)",
   "language": "python",
   "name": "python3"
  },
  "language_info": {
   "codemirror_mode": {
    "name": "ipython",
    "version": 3
   },
   "file_extension": ".py",
   "mimetype": "text/x-python",
   "name": "python",
   "nbconvert_exporter": "python",
   "pygments_lexer": "ipython3",
   "version": "3.11.3"
  }
 },
 "nbformat": 4,
 "nbformat_minor": 5
}
