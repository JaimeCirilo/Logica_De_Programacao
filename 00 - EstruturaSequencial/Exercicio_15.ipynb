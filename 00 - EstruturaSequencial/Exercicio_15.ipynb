{
 "cells": [
  {
   "cell_type": "code",
   "execution_count": null,
   "id": "f610babb",
   "metadata": {},
   "outputs": [],
   "source": [
    "#1)Perguntar quanto o usuário ganha por hora\n",
    "real_por_hora = float(input(\"Digite quanto você ganha por hora (R$/h): \"))\n",
    "\n",
    "#2)Perguntar quantas horas o usuário trabalha no mês\n",
    "horas_trabalhadas = float(input(\"Digite quantas horas você trabalha no mês (h): \"))\n",
    "\n",
    "#3)Calcular e mostrar o salário do usuário\n",
    "salario_bruto = real_por_hora * horas_trabalhadas\n",
    "print(f\"+ SALÁRIO BRUTO: R$ {salario_bruto}\")\n",
    "\n",
    "#4)Calcular e mostrar o IR\n",
    "ir = salario_bruto * 0.11\n",
    "print(f\"- IR (11%) : R$ {ir}\")\n",
    "\n",
    "#5)Calcular e mostrar o INSS\n",
    "inss = salario_bruto * 0.08\n",
    "print(f\"- INSS (8%) : R$ {inss}\")\n",
    "\n",
    "#6)Calcular e mostrar o Sindicato\n",
    "sindicato = salario_bruto * 0.05\n",
    "print(f\"- SINDICATO (5%) : R$ {sindicato}\")\n",
    "\n",
    "#7Calcular e mostrar o salário líquido\n",
    "salario_liquido = salario_bruto - ir - inss - sindicato\n",
    "print(f\"= SALÁRIO LÍQUIDO : R$ {salario_liquido}\")"
   ]
  }
 ],
 "metadata": {
  "kernelspec": {
   "display_name": "Python 3 (ipykernel)",
   "language": "python",
   "name": "python3"
  },
  "language_info": {
   "codemirror_mode": {
    "name": "ipython",
    "version": 3
   },
   "file_extension": ".py",
   "mimetype": "text/x-python",
   "name": "python",
   "nbconvert_exporter": "python",
   "pygments_lexer": "ipython3",
   "version": "3.11.3"
  }
 },
 "nbformat": 4,
 "nbformat_minor": 5
}
