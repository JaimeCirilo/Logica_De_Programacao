{
 "cells": [
  {
   "cell_type": "code",
   "execution_count": 18,
   "id": "ba978053",
   "metadata": {},
   "outputs": [
    {
     "name": "stdout",
     "output_type": "stream",
     "text": [
      "False\n",
      "True\n"
     ]
    }
   ],
   "source": [
    "#Operadores relacionais\n",
    "texto1 = \"Aula\"\n",
    "texto2 = \"Aula\"\n",
    "texto3 = \"aula\"\n",
    "numero1 = 2.0\n",
    "numero2 = 2.0\n",
    "numero3 = 1.0\n",
    "bool1 = True\n",
    "bool2 = True\n",
    "\n",
    "#print(texto1 == texto2) # igualdade\n",
    "#print(texto2 == texto3)\n",
    "#print(numero1 == numero2)\n",
    "#print(numero2 == numero3)\n",
    "\n",
    "#print(numero1 > numero2) # maior\n",
    "#print(numero1 > numero3) \n",
    "\n",
    "#print(numero3 < numero1)  # menor\n",
    "#print(numero1 < numero3)\n",
    "\n",
    "#print(numero1 >= numero2)  #maior igual\n",
    "#print(numero2 >= numero3)\n",
    "\n",
    "#print(numero2 <= numero3)  #menor igual\n",
    "#print(numero2 <= numero1)\n",
    "\n",
    "numero1 = 2.0\n",
    "numero2 = 2.0\n",
    "numero3 = 1.0\n",
    "\n",
    "print(numero1 != numero2) #!= difrente\n",
    "print(numero1 != numero3)"
   ]
  },
  {
   "cell_type": "code",
   "execution_count": 19,
   "id": "3ba0089f",
   "metadata": {},
   "outputs": [
    {
     "name": "stdout",
     "output_type": "stream",
     "text": [
      "True\n",
      "True\n",
      "True\n",
      "True\n",
      "False\n",
      "True\n",
      "True\n",
      "True\n",
      "True\n",
      "True\n",
      "True\n",
      "False\n",
      "True\n",
      "True\n"
     ]
    }
   ],
   "source": [
    "var1 = 1\n",
    "var2 = 2\n",
    "var3 = 3\n",
    "var4 = 1\n",
    "var5 = 8\n",
    "\n",
    "print(var1==var4)                     \n",
    "print(var2<var5)                   \n",
    "print(var3>var1)                  \n",
    "print(var1<=var4)                  \n",
    "print(var1!=var4)                    \n",
    "print(var5>=var2)\n",
    "print(var5/var2==4)  \n",
    "print(var2**var3 == var5)\n",
    "print(var3%var2 == var1)          \n",
    "print(var1*var4 == 1) \n",
    "print(var1 + var1 >= var2)\n",
    "print(var2 * var3 + var2 < var5 )  \n",
    "print(var3 - var2 <= var1)     \n",
    "print(3*1 == var3)                "
   ]
  }
 ],
 "metadata": {
  "kernelspec": {
   "display_name": "Python 3 (ipykernel)",
   "language": "python",
   "name": "python3"
  },
  "language_info": {
   "codemirror_mode": {
    "name": "ipython",
    "version": 3
   },
   "file_extension": ".py",
   "mimetype": "text/x-python",
   "name": "python",
   "nbconvert_exporter": "python",
   "pygments_lexer": "ipython3",
   "version": "3.11.3"
  }
 },
 "nbformat": 4,
 "nbformat_minor": 5
}
