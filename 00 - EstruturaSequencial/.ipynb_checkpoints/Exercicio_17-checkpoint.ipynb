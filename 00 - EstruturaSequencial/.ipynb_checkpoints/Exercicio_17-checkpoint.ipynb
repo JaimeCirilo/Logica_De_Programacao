{
 "cells": [
  {
   "cell_type": "code",
   "execution_count": null,
   "id": "1cc00963",
   "metadata": {},
   "outputs": [],
   "source": [
    "#1) O usuário deve inserir a informação da área pintada em m² no programa\n",
    "area = float(input(\"Digite o valor em m² da área a ser pintada: \"))\n",
    "\n",
    "#2) Calcular o preço da compra de latas de 18l -> 108m²\n",
    "latas_de_18 = round(area/108 + 0.5)\n",
    "preco_18 = latas_de_18 * 80\n",
    "\n",
    "#3) Calcular o preço da compra de latas de 3.6l-> 21.6m²\n",
    "latas_de_36 = round(area/21.6 + 0.5)\n",
    "preco_36 = latas_de_36 * 25\n",
    "\n",
    "#4) Calcular o preço da compra de latas de 18l e 3.6l\n",
    "lata_18_m = area//108\n",
    "lata_36_m = (area - (108*lata_18_m))/21.6\n",
    "lata_total = lata_18_m + round(lata_36_m + 0.5)\n",
    "preco_total = lata_18_m * 80 + round(lata_36_m + 0.5) * 25\n",
    "\n",
    "#5) Mostrar na tela o preço calculado para 18l\n",
    "print(\"MODALIDADE 1\")\n",
    "print(f\"A quantidade de latas de 18L necessárias são: {latas_de_18} latas.\")\n",
    "print(f\"O preço total é de: R${float(preco_18)}\")\n",
    "print(\"-----------------------------------\")\n",
    "\n",
    "#6) Mostrar na tela o preço calculado para 3.6l\n",
    "print(\"MODALIDADE 2\")\n",
    "print(f\"A quantidade de latas de 3.6L necessárias são: {latas_de_36} latas.\")\n",
    "print(f\"O preço total é de: R${float(preco_36)}\")\n",
    "print(\"-----------------------------------\")\n",
    "\n",
    "#7) Mostrar na tela o preço calculado para 18 e 3.6l\n",
    "print(\"MODALIDADE 3\")\n",
    "print(f\"A quantidade de latas de 3.6L necessárias são: {round(lata_36_m + 0.5)} latas.\")\n",
    "print(f\"A quantidade de latas de 18L necessárias são: {lata_18_m} latas.\")\n",
    "print(f\"A quantidade total de latas é de: {lata_total} latas\")\n",
    "print(f\"O preço total das latas de 18L são: {lata_18_m * 80}R$\")\n",
    "print(f\"O preço total das latas de 3.6L são: {round(lata_36_m + 0.5) * 25}R$\")\n",
    "print(f\"O preço total é de: R${float(preco_total)}R$\")\n",
    "print(\"-----------------------------------\")"
   ]
  }
 ],
 "metadata": {
  "kernelspec": {
   "display_name": "Python 3 (ipykernel)",
   "language": "python",
   "name": "python3"
  },
  "language_info": {
   "codemirror_mode": {
    "name": "ipython",
    "version": 3
   },
   "file_extension": ".py",
   "mimetype": "text/x-python",
   "name": "python",
   "nbconvert_exporter": "python",
   "pygments_lexer": "ipython3",
   "version": "3.11.3"
  }
 },
 "nbformat": 4,
 "nbformat_minor": 5
}
