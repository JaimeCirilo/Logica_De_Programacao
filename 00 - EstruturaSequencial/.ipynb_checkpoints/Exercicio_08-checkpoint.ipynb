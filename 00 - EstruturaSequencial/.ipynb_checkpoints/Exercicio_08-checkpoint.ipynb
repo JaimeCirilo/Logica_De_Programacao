{
 "cells": [
  {
   "cell_type": "code",
   "execution_count": 5,
   "id": "eee83ef6",
   "metadata": {},
   "outputs": [
    {
     "name": "stdout",
     "output_type": "stream",
     "text": [
      "Digite a quantidade de horas trabalhadas no mês: 160\n",
      "Digite o valor recebido por hora: 15\n",
      "Quantidade de horas trabalhadas: 160h\n",
      "Valor em R$ recebido por hora:   15.0R$\n",
      "Salário Mensal TOTAL:            2400.0R$\n"
     ]
    }
   ],
   "source": [
    "#Faça um Programa que pergunte quanto você ganha por hora e o número de horas trabalhadas no mês. \n",
    "#Calcule e mostre o total do seu salário no referido mês.\n",
    "\n",
    "#ALGORITIMO\n",
    "#1)Solicitar ao usuário a quantidade de horas trabalhadas no mês.\n",
    "horas = input(\"Digite a quantidade de horas trabalhadas no mês: \")\n",
    "\n",
    "#2)Solicitar quantos reais por hora o usuário ganha\n",
    "reais_por_hora = input(\"Digite o valor recebido por hora: \")\n",
    "\n",
    "#3)Calcular o salário mensal do usuário\n",
    "salario_total = float(horas) * float(reais_por_hora)\n",
    "\n",
    "#4)Mostrar o resultado na tela\n",
    "print(f\"Quantidade de horas trabalhadas: {horas}h\")\n",
    "print(f\"Valor em R$ recebido por hora:   {reais_por_hora}.0R$\")\n",
    "print(f\"Salário Mensal TOTAL:            {salario_total}R$\")\n",
    "\n"
   ]
  }
 ],
 "metadata": {
  "kernelspec": {
   "display_name": "Python 3 (ipykernel)",
   "language": "python",
   "name": "python3"
  },
  "language_info": {
   "codemirror_mode": {
    "name": "ipython",
    "version": 3
   },
   "file_extension": ".py",
   "mimetype": "text/x-python",
   "name": "python",
   "nbconvert_exporter": "python",
   "pygments_lexer": "ipython3",
   "version": "3.11.3"
  }
 },
 "nbformat": 4,
 "nbformat_minor": 5
}
