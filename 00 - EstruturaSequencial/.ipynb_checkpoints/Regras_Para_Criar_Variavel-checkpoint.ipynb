{
 "cells": [
  {
   "cell_type": "code",
   "execution_count": null,
   "id": "6e6fe3d0",
   "metadata": {},
   "outputs": [],
   "source": [
    "#Não pode ter espaço; Exemplo:    salario pessoa  >>  salario_pessoa\n",
    "#Não pode ter caracter especial;  id@ade_aluno    >>  idade_aluno\n",
    "#Não pode inicar com número;      1numero         >>  numero1\n",
    "#Não pode ser comando do python;  print           >>  mostrar\n",
    "#Não deve ter acento;             aniversário     >>  aniversario\n",
    "#OBSERVAÇÃO:   existe diferença de minusculo para mausculo;    python != PYTHON != Python (CASE SENSITIVE)\n",
    "\n",
    "nomeAluno = \"Jaime\"        #CORRETO >> TIPO PRIMITIVO = TEXTO (STRING)\n",
    "10_mandamentos = \"Moises\"  #ERRADO (COMEÇOU COM NÚMERO)  \n",
    "sal@rio pessoa = 27,0      #ERRADO (TEM CARACTER ESPECIAL \"@\"; A VARIÁVEL POSSUI ESPAÇO; O PYTHON CONSIDERA . ao invés de ,)\n",
    "idadeFuncionario = 27      #CORRETO >> TIPO PRIMITIVO = INTEIRO (INT)\n",
    "carro_marca_ano = ford2000 #CERTO E ERRADO (PODE-SE GUARDAR \"VARIAVEL\" DENTRO DE OUTRA, PORÉM A SEGUNDA VARIÁVEL TEM QUE SER CRIADA ANTERIORMENTE)\n",
    "all = 20.0                 #ERRADO (NÃO PODE CRIAR VARIÁVEL COM NOME DE COMANDO)\n",
    "identidade  = \"asdasd9599\" #CORRETO >> TIPO PRIMITIVO = TEXTO (STRING)\n",
    "texto = #aula de python    #ERRADO (NÃO PODE GUARDAR UM COMENTÁRIO DENTRO DE UMA VARIÁVEL)  \n",
    "booleana = False           #CORRETO >> TIPO PRIMITIVO = BOOLEAN (BOOL)\n",
    "booleana1 = false          #ERRADO (O VALOR FALSE DEVE ESTAR COM A PRIMEIRA LETRA MAIÚSCULA)\n",
    "booleana2 = True           #CORRETO >> TIPO PRIMITIVO = BOOLEAN (BOOL)\n",
    "nome_func = 'Hotávio\"      #NÃO PODE MISTURAR ASPAS SIMPLES COM ASPAS DUPLAS\n",
    "variavel1 = '2078'         #CORRETO >> TIPO PRIMITIVO = TEXTO (STRING)\n",
    "variavel2 = 2078           #CORRETO >> TIPO PRIMITIVO = INTEIRO  (INT)\n",
    "variavel3 = 2078.00        #CORRETO >> TIPO PRIMITVO =  FLOAT  (FLOAT)"
   ]
  }
 ],
 "metadata": {
  "kernelspec": {
   "display_name": "Python 3 (ipykernel)",
   "language": "python",
   "name": "python3"
  },
  "language_info": {
   "codemirror_mode": {
    "name": "ipython",
    "version": 3
   },
   "file_extension": ".py",
   "mimetype": "text/x-python",
   "name": "python",
   "nbconvert_exporter": "python",
   "pygments_lexer": "ipython3",
   "version": "3.11.3"
  }
 },
 "nbformat": 4,
 "nbformat_minor": 5
}
