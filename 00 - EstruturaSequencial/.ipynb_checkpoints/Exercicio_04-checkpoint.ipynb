{
 "cells": [
  {
   "cell_type": "code",
   "execution_count": null,
   "id": "94034bd3",
   "metadata": {},
   "outputs": [],
   "source": [
    "# Faça um Programa que peça as 4 notas bimestrais e mostre a média.\n",
    "nota1 = input(\"Digite a primeira nota: \")\n",
    "nota2 = input(\"Digite a segunda nota: \")\n",
    "nota3 = input(\"Digite a terceira nota: \")\n",
    "nota4 = input(\"Digite a quarta nota: \")\n",
    "\n",
    "media = (int(nota1) + int(nota2) + int(nota3) + int(nota4))/4\n",
    "print(\"A média dos números digitados foi: \")\n",
    "print(media)"
   ]
  }
 ],
 "metadata": {
  "kernelspec": {
   "display_name": "Python 3 (ipykernel)",
   "language": "python",
   "name": "python3"
  },
  "language_info": {
   "codemirror_mode": {
    "name": "ipython",
    "version": 3
   },
   "file_extension": ".py",
   "mimetype": "text/x-python",
   "name": "python",
   "nbconvert_exporter": "python",
   "pygments_lexer": "ipython3",
   "version": "3.11.3"
  }
 },
 "nbformat": 4,
 "nbformat_minor": 5
}
