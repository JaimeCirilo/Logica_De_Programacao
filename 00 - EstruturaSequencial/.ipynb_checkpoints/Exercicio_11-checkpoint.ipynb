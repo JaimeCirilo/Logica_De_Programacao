{
 "cells": [
  {
   "cell_type": "code",
   "execution_count": null,
   "id": "de7313ae",
   "metadata": {},
   "outputs": [],
   "source": [
    "#Faça um Programa que peça 2 números inteiros e um número real. \n",
    "#Calcule e mostre: \n",
    "# 1) o produto do dobro do primeiro com metade do segundo .\n",
    "# 2) a soma do triplo do primeiro com o terceiro.\n",
    "# 3) o terceiro elevado ao cubo.\n",
    "\n",
    "\n",
    "#Algorítimo PASSO A PASSO\n",
    "#1)Pedir dois números inteiros (int) \n",
    "x = input(\"Digite o primeiro número inteiro:\")\n",
    "y = input(\"Digite o segundo número inteiro: \")\n",
    "\n",
    "#2)Pedir um número real (float)\n",
    "z = input(\"Digite o terceiro número real: \")\n",
    "print()\n",
    "#3) Calcular a primeira expressão matemática\n",
    "resultado_1 = 2*int(x) + int(y)/2\n",
    "\n",
    "#4) Calcular a segunda expressão matemática\n",
    "resultado_2 = 3*int(x) + float(z)\n",
    "\n",
    "#5) Calcular a terceira expressão matemática.\n",
    "resultado_3 = float(z)**3\n",
    "\n",
    "#6) Mostar o resultado da primeira expressão matemática.\n",
    "print(f\"*O produto do dobro do primeiro número com metade do segundo número* \")\n",
    "print(f\"O resultado da primeira expressão foi: {resultado_1}\")\n",
    "print()\n",
    "\n",
    "#7) Mostrar o resultado da segunda expressão matemática.\n",
    "print(f\"--A soma do triplo do primeiro número com o terceiro número--\")\n",
    "print(f\"O resultado da segunda expressão foi:{resultado_2} \")\n",
    "print()\n",
    "#8) Mostrar o resultado da terceira expressão matemática.\n",
    "print(f\"O terceiro número elevado ao cubo.\")\n",
    "print(f\"O resultado da segunda expressão foi: {resultado_3}\")"
   ]
  }
 ],
 "metadata": {
  "kernelspec": {
   "display_name": "Python 3 (ipykernel)",
   "language": "python",
   "name": "python3"
  },
  "language_info": {
   "codemirror_mode": {
    "name": "ipython",
    "version": 3
   },
   "file_extension": ".py",
   "mimetype": "text/x-python",
   "name": "python",
   "nbconvert_exporter": "python",
   "pygments_lexer": "ipython3",
   "version": "3.11.3"
  }
 },
 "nbformat": 4,
 "nbformat_minor": 5
}
