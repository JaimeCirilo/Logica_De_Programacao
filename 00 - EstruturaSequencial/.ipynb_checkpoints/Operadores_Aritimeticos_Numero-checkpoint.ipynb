{
 "cells": [
  {
   "cell_type": "code",
   "execution_count": null,
   "id": "5af358bc",
   "metadata": {},
   "outputs": [],
   "source": [
    "#OPERAÇÕES COM VALORES NUMÉRICOS\n",
    "print(3**5) #** -> Exponenciação\n",
    "print(2*5)#* - Multiplicação\n",
    "print(25/5)#/ - Divisão\n",
    "print(21//2)#// - Divisão Inteira\n",
    "print(21%2) #% - Resto de uma divisão inteira\n",
    "print(7+7) #+ - Soma\n",
    "print(7-7)#- - Subtração"
   ]
  },
  {
   "cell_type": "code",
   "execution_count": null,
   "id": "16e2ceb0",
   "metadata": {},
   "outputs": [],
   "source": [
    "variavel_1 = float(input(\"Digite o valor 1: \"))\n",
    "variavel_2 = float(input(\"Digite o valor 2: \"))\n",
    "variavel_3 = float(input(\"Digite o valor 3: \"))\n",
    "\n",
    "print(variavel_1**5) #(**) -> Exponenciação\n",
    "print(variavel_1*variavel_2) #(*) -> Multiplicação\n",
    "print(variavel_2/variavel_3) #(/) -> Divisão\n",
    "print(variavel_2//variavel_1) #(//) -> Divisão Inteira\n",
    "print(variavel_2%variavel_1) #(%) -> Resto de uma divisão inteira\n",
    "print(variavel_1+variavel_3) #(+) -> Soma\n",
    "print(variavel_1-variavel_3) # (-) -> Subtração"
   ]
  }
 ],
 "metadata": {
  "kernelspec": {
   "display_name": "Python 3 (ipykernel)",
   "language": "python",
   "name": "python3"
  },
  "language_info": {
   "codemirror_mode": {
    "name": "ipython",
    "version": 3
   },
   "file_extension": ".py",
   "mimetype": "text/x-python",
   "name": "python",
   "nbconvert_exporter": "python",
   "pygments_lexer": "ipython3",
   "version": "3.11.3"
  }
 },
 "nbformat": 4,
 "nbformat_minor": 5
}
