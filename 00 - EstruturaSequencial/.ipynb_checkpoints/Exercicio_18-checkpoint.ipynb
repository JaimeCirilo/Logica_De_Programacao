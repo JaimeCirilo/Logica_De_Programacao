{
 "cells": [
  {
   "cell_type": "code",
   "execution_count": null,
   "id": "d84c440f",
   "metadata": {},
   "outputs": [],
   "source": [
    "#1) Solicitar ao usuário o tamanho do arquivo de download(MB)\n",
    "arquivo = float(input(\"Digite o tamanho em MB do arquivo: \"))\n",
    "\n",
    "#2) Solicitar a taxa de velocidade da internet (Mbps)\n",
    "velocidade_internet = float(input(\"Digite a taxa de transferência do link (MPBS): \"))\n",
    "\n",
    "#3) Calcular o tempo necessário para o download\n",
    "tempo_s = arquivo/velocidade_internet\n",
    "tempo_m = tempo_s/60\n",
    "\n",
    "#4) Mostrar o resultado do tempo necessário\n",
    "print(f\"Tamanho do arquivo em (MB): {arquivo}\")\n",
    "print(f\"Velocidade do link (MBPS): {velocidade_internet}\")\n",
    "print(f\"O tempo de download em segundos: {round(tempo_s)}\")\n",
    "print(f\"O tempo em download em minutos: {round(tempo_m,2)}\")"
   ]
  }
 ],
 "metadata": {
  "kernelspec": {
   "display_name": "Python 3 (ipykernel)",
   "language": "python",
   "name": "python3"
  },
  "language_info": {
   "codemirror_mode": {
    "name": "ipython",
    "version": 3
   },
   "file_extension": ".py",
   "mimetype": "text/x-python",
   "name": "python",
   "nbconvert_exporter": "python",
   "pygments_lexer": "ipython3",
   "version": "3.11.3"
  }
 },
 "nbformat": 4,
 "nbformat_minor": 5
}
