{
 "cells": [
  {
   "cell_type": "code",
   "execution_count": null,
   "id": "d82148bd",
   "metadata": {},
   "outputs": [],
   "source": [
    "#João precisa que você faça um programa que leia a variável peso \n",
    "#(peso de peixes) e calcule o excesso. \n",
    "#Gravar na variável excesso a quantidade de quilos \n",
    "#além do limite e na variável multa o valor \n",
    "#da multa que João deverá pagar. \n",
    "#Imprima os dados do programa com as mensagens adequadas.\n",
    "\n",
    "#Pode pescar até 50 kg;\n",
    "#Multa de 4 R$ por kg excedente;\n",
    "\n",
    "#1)O usuário deve digitar quantos quilos de peixe pegou;\n",
    "peso = float(input(\"Digite quantos KG's de peixe você pescou: \"))\n",
    "\n",
    "#2)Calcular o excesso de kgs;\n",
    "excesso = peso - 50\n",
    "\n",
    "#3)Calcular a multa\n",
    "multa = 4 * excesso\n",
    "\n",
    "if(excesso>0):\n",
    "    #4)Mostrar a mensagem\n",
    "    print(f\"Você pescou {peso}kg de peixe.\")\n",
    "    print(f\"Você pegou {excesso}kg em excesso.\")\n",
    "    print(f\"Sua multa é de {multa}R$.\")\n",
    "else:\n",
    "    print(\"Você Não pegou peixes em Excesso!\")"
   ]
  }
 ],
 "metadata": {
  "kernelspec": {
   "display_name": "Python 3 (ipykernel)",
   "language": "python",
   "name": "python3"
  },
  "language_info": {
   "codemirror_mode": {
    "name": "ipython",
    "version": 3
   },
   "file_extension": ".py",
   "mimetype": "text/x-python",
   "name": "python",
   "nbconvert_exporter": "python",
   "pygments_lexer": "ipython3",
   "version": "3.11.3"
  }
 },
 "nbformat": 4,
 "nbformat_minor": 5
}
