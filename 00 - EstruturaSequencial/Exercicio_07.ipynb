{
 "cells": [
  {
   "cell_type": "code",
   "execution_count": 2,
   "id": "6a0ccddb",
   "metadata": {},
   "outputs": [
    {
     "name": "stdout",
     "output_type": "stream",
     "text": [
      "Digite o valor do lado do quadrado: 2\n",
      "Um quadrado com lado igual a 2 possui área igual a 4.0.\n"
     ]
    }
   ],
   "source": [
    "#Faça um Programa que calcule a área de um quadrado, \n",
    "#em seguida mostre o dobro desta área para o usuário\n",
    "\n",
    "#ALGORITIMO\n",
    "#1)Solicitar o valor do lado do quadrado\n",
    "lado = input(\"Digite o valor do lado do quadrado: \")\n",
    "\n",
    "#2)Calcular a área do quadrado\n",
    "area = float(lado) ** 2\n",
    "\n",
    "#3)Mostrar o resultado do calculo para o usuário\n",
    "print(f\"Um quadrado com lado igual a {lado} possui área igual a {area}.\")\n",
    "\n"
   ]
  }
 ],
 "metadata": {
  "kernelspec": {
   "display_name": "Python 3 (ipykernel)",
   "language": "python",
   "name": "python3"
  },
  "language_info": {
   "codemirror_mode": {
    "name": "ipython",
    "version": 3
   },
   "file_extension": ".py",
   "mimetype": "text/x-python",
   "name": "python",
   "nbconvert_exporter": "python",
   "pygments_lexer": "ipython3",
   "version": "3.11.3"
  }
 },
 "nbformat": 4,
 "nbformat_minor": 5
}
