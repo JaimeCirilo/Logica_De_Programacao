{
 "cells": [
  {
   "cell_type": "code",
   "execution_count": null,
   "id": "83b9bc36",
   "metadata": {},
   "outputs": [],
   "source": [
    "#Para cada 3m² -> 1L de tinta\n",
    "#Lata é vendida 18L ->R$ 80,00\n",
    " \n",
    "#1)Pedir o tamanho em metros quadrados da área a ser pintada;\n",
    "area_pintada = float(input(\"Digite a área em m² a ser pintada: \"))\n",
    "\n",
    "#2)Calcular quantas latas de tinta o usuário irá precisar;\n",
    "quantidade_tinta = area_pintada / 3\n",
    "quantidade_latas = round(quantidade_tinta / 18 + (0.5))\n",
    "\n",
    "#3)Calcular o preço total de venda\n",
    "total = quantidade_latas * 80\n",
    "\n",
    "print(f\"A área que você deseja pintar é de: {area_pintada} m².\")\n",
    "print(f\"A quantidade de tinta que você precisa é de: {quantidade_tinta} L.\")\n",
    "print(f\"A quantidade de latas que você precisa é de: {quantidade_latas} Lata(s).\")\n",
    "print(f\"Você irá gastar: R$ {total}\")"
   ]
  }
 ],
 "metadata": {
  "kernelspec": {
   "display_name": "Python 3 (ipykernel)",
   "language": "python",
   "name": "python3"
  },
  "language_info": {
   "codemirror_mode": {
    "name": "ipython",
    "version": 3
   },
   "file_extension": ".py",
   "mimetype": "text/x-python",
   "name": "python",
   "nbconvert_exporter": "python",
   "pygments_lexer": "ipython3",
   "version": "3.11.3"
  }
 },
 "nbformat": 4,
 "nbformat_minor": 5
}
