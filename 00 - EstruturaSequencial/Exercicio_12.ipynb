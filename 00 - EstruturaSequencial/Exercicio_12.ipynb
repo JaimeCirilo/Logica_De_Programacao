{
 "cells": [
  {
   "cell_type": "code",
   "execution_count": null,
   "id": "78f6f4f2",
   "metadata": {},
   "outputs": [],
   "source": [
    "#Tendo como dados de entrada a altura de uma pessoa,\n",
    "#construa um algoritmo que calcule seu peso ideal, \n",
    "#usando a seguinte fórmula: (72.7*altura) - 58\n",
    "\n",
    "#1) Primeiro Passo\n",
    "altura = input(\"Digite sua altura: \")\n",
    "\n",
    "#2) Calcular\n",
    "peso_ideal = (72.7 *  ) - 58\n",
    "\n",
    "#3) Mostrar o resultado\n",
    "print(f\"O peso ideal é de {peso_ideal} kg.\")"
   ]
  }
 ],
 "metadata": {
  "kernelspec": {
   "display_name": "Python 3 (ipykernel)",
   "language": "python",
   "name": "python3"
  },
  "language_info": {
   "codemirror_mode": {
    "name": "ipython",
    "version": 3
   },
   "file_extension": ".py",
   "mimetype": "text/x-python",
   "name": "python",
   "nbconvert_exporter": "python",
   "pygments_lexer": "ipython3",
   "version": "3.11.3"
  }
 },
 "nbformat": 4,
 "nbformat_minor": 5
}
