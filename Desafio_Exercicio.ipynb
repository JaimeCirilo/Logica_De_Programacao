{
 "cells": [
  {
   "cell_type": "code",
   "execution_count": null,
   "id": "ca706d69",
   "metadata": {},
   "outputs": [
    {
     "name": "stdout",
     "output_type": "stream",
     "text": [
      "        ***MENU***\n",
      "\n",
      "1. SOMA DE DOIS NÚMEROS\n",
      "2. DIFERENÇA ENTRE DOIS NÚMEROS\n",
      "3. PRODUTO ENTRE DOIS NÚMEROS\n",
      "4. DIVISÃO ENTRE DOIS NÚMEROS\n",
      "5. SAÍDA\n",
      "\n",
      "DIGITE UMA OPÇÃO: 4\n",
      "Digite o primero número: 4\n",
      "Digite o segundo número: 0\n",
      "Valores não podem ser divididos por 0!\n",
      "        ***MENU***\n",
      "\n",
      "1. SOMA DE DOIS NÚMEROS\n",
      "2. DIFERENÇA ENTRE DOIS NÚMEROS\n",
      "3. PRODUTO ENTRE DOIS NÚMEROS\n",
      "4. DIVISÃO ENTRE DOIS NÚMEROS\n",
      "5. SAÍDA\n",
      "\n"
     ]
    }
   ],
   "source": [
    "#Comando de saída\n",
    "while(True):\n",
    "    print(\"        ***MENU***\")\n",
    "    print()\n",
    "    print(\"1. SOMA DE DOIS NÚMEROS\")\n",
    "    print(\"2. DIFERENÇA ENTRE DOIS NÚMEROS\")\n",
    "    print(\"3. PRODUTO ENTRE DOIS NÚMEROS\")\n",
    "    print(\"4. DIVISÃO ENTRE DOIS NÚMEROS\")\n",
    "    print(\"5. SAÍDA\")\n",
    "    print()\n",
    "\n",
    "    #Comando entrada\n",
    "    opcao = input(\"DIGITE UMA OPÇÃO: \")\n",
    "    try:\n",
    "        if(opcao == \"1\"):\n",
    "            numero_1 = input(\"Digite o primero número: \")\n",
    "            numero_2 = input(\"Digite o segundo número: \")\n",
    "            soma = float(numero_1) + float(numero_2)\n",
    "            print(f\"{numero_1} + {numero_2} = {soma}\")\n",
    "        elif(opcao == \"2\"):\n",
    "            numero_1 = input(\"Digite o primero número: \")\n",
    "            numero_2 = input(\"Digite o segundo número: \")\n",
    "            subtracao = float(numero_1) - float(numero_2)\n",
    "            print(f\"{numero_1} - {numero_2} = {subtracao}\")\n",
    "        elif(opcao == \"3\"):\n",
    "            numero_1 = input(\"Digite o primero número: \")\n",
    "            numero_2 = input(\"Digite o segundo número: \")\n",
    "            subtracao = float(numero_1) * float(numero_2)\n",
    "            print(f\"{numero_1} * {numero_2} = {subtracao}\")\n",
    "        elif(opcao== \"4\"):\n",
    "            numero_1 = input(\"Digite o primero número: \")\n",
    "            numero_2 = input(\"Digite o segundo número: \")\n",
    "            produto = float(numero_1) / float(numero_2)\n",
    "            print(f\"{numero_1} / {numero_2} = {produto}\")\n",
    "        elif(opcao == \"5\"):\n",
    "            print(\"-------------------\")\n",
    "            print(\"PROGRAMA FINALIZADO\")\n",
    "            print(\"-------------------\")\n",
    "            break\n",
    "    except ValueError as erro:\n",
    "        print(\"Valores Digitados São Inválidos!\")\n",
    "    except ZeroDivisionError as erro2:\n",
    "        print(\"Valores não podem ser divididos por 0!\")"
   ]
  }
 ],
 "metadata": {
  "kernelspec": {
   "display_name": "Python 3 (ipykernel)",
   "language": "python",
   "name": "python3"
  },
  "language_info": {
   "codemirror_mode": {
    "name": "ipython",
    "version": 3
   },
   "file_extension": ".py",
   "mimetype": "text/x-python",
   "name": "python",
   "nbconvert_exporter": "python",
   "pygments_lexer": "ipython3",
   "version": "3.11.3"
  }
 },
 "nbformat": 4,
 "nbformat_minor": 5
}
