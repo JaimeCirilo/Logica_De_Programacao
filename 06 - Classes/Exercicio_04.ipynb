{
 "cells": [
  {
   "cell_type": "code",
   "execution_count": 16,
   "id": "049ba806",
   "metadata": {},
   "outputs": [
    {
     "name": "stdout",
     "output_type": "stream",
     "text": [
      "Nome: Carlos Idade: 19 Peso: 60 Altura: 170\n",
      "----------\n",
      "Nome: Carlos Idade: 20 Peso: 61 Altura: 170.5\n"
     ]
    }
   ],
   "source": [
    "class Pessoa():\n",
    "    def __init__(self, nome, idade, peso, altura):\n",
    "        self.nome = nome\n",
    "        self.idade = idade\n",
    "        self.peso = peso\n",
    "        self.altura = altura\n",
    "    \n",
    "    def envelhercer(self):\n",
    "        self.idade += 1\n",
    "        \n",
    "    def engordar(self):\n",
    "        self.peso += 1\n",
    "        \n",
    "    def emagrecer(self):\n",
    "        self.peso -= 1\n",
    "        \n",
    "    def crescer(self):\n",
    "        if(self.idade < 21):\n",
    "            self.altura += 0.5\n",
    "            \n",
    "    def __str__(self):\n",
    "        return f\"Nome: {self.nome} Idade: {self.idade} Peso: {self.peso} Altura: {self.altura}\"\n",
    "            \n",
    "pessoa = Pessoa(\"Carlos\", 19, 60, 170)\n",
    "\n",
    "print(str(pessoa))\n",
    "pessoa.envelhercer()\n",
    "pessoa.crescer()\n",
    "pessoa.engordar()\n",
    "print('----------')\n",
    "print(str(pessoa))\n"
   ]
  },
  {
   "cell_type": "code",
   "execution_count": null,
   "id": "589cb6f1",
   "metadata": {},
   "outputs": [],
   "source": []
  }
 ],
 "metadata": {
  "kernelspec": {
   "display_name": "Python 3 (ipykernel)",
   "language": "python",
   "name": "python3"
  },
  "language_info": {
   "codemirror_mode": {
    "name": "ipython",
    "version": 3
   },
   "file_extension": ".py",
   "mimetype": "text/x-python",
   "name": "python",
   "nbconvert_exporter": "python",
   "pygments_lexer": "ipython3",
   "version": "3.11.3"
  }
 },
 "nbformat": 4,
 "nbformat_minor": 5
}
