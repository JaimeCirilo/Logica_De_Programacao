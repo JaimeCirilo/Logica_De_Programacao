{
 "cells": [
  {
   "cell_type": "code",
   "execution_count": 9,
   "id": "d3295737",
   "metadata": {},
   "outputs": [
    {
     "name": "stdout",
     "output_type": "stream",
     "text": [
      "Numero Conta: 123\n",
      "Nome da Conta: PF\n",
      "Saldo da Conta: 1000\n",
      "Numero Conta: 123\n",
      "Nome da Conta: PJ\n",
      "Saldo da Conta: 1500\n"
     ]
    }
   ],
   "source": [
    "class contaCorrente():\n",
    "    def __init__(self, numConta, nomeCorrent, saldo=0):\n",
    "        self.numConta = numConta\n",
    "        self.nomeCorrent = nomeCorrent\n",
    "        self.saldo = saldo\n",
    "    \n",
    "    def alterarNome(self, novoNome):\n",
    "        self.nomeCorrent = novoNome\n",
    "    \n",
    "    def deposito(self, dep):\n",
    "        self.saldo += dep\n",
    "    \n",
    "    def saque(self, saq):\n",
    "        self.saldo-=saq\n",
    "        \n",
    "    def mostrarConta(self):\n",
    "        print(f\"Numero Conta: {self.numConta}\")\n",
    "        print(f\"Nome da Conta: {self.nomeCorrent}\")\n",
    "        print(f\"Saldo da Conta: {self.saldo}\")\n",
    "\n",
    "conta = contaCorrente(123,\"PF\",1000)\n",
    "conta.mostrarConta()\n",
    "conta.alterarNome(\"PJ\")\n",
    "conta.deposito(1000)\n",
    "conta.saque(500)\n",
    "conta.mostrarConta()\n"
   ]
  },
  {
   "cell_type": "code",
   "execution_count": null,
   "id": "4bf6da2d",
   "metadata": {},
   "outputs": [],
   "source": []
  }
 ],
 "metadata": {
  "kernelspec": {
   "display_name": "Python 3 (ipykernel)",
   "language": "python",
   "name": "python3"
  },
  "language_info": {
   "codemirror_mode": {
    "name": "ipython",
    "version": 3
   },
   "file_extension": ".py",
   "mimetype": "text/x-python",
   "name": "python",
   "nbconvert_exporter": "python",
   "pygments_lexer": "ipython3",
   "version": "3.11.3"
  }
 },
 "nbformat": 4,
 "nbformat_minor": 5
}
