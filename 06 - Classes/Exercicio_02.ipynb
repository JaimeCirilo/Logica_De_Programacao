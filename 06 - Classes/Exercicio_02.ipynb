{
 "cells": [
  {
   "cell_type": "code",
   "execution_count": 2,
   "id": "9facff50",
   "metadata": {},
   "outputs": [
    {
     "name": "stdout",
     "output_type": "stream",
     "text": [
      "2\n"
     ]
    },
    {
     "data": {
      "text/plain": [
       "'A área do quadrado é 16!'"
      ]
     },
     "execution_count": 2,
     "metadata": {},
     "output_type": "execute_result"
    }
   ],
   "source": [
    "class Quadrado():\n",
    "    def __init__(self, lado):\n",
    "        self.lado = lado\n",
    "        \n",
    "    def setLado(self, novoLado):\n",
    "        self.lado = novoLado\n",
    "    \n",
    "    def getLado(self):\n",
    "        return self.lado\n",
    "    \n",
    "    def area(self):\n",
    "        return f\"A área do quadrado é {self.lado**2}!\"\n",
    "        \n",
    "        \n",
    "quadrado = Quadrado(2)\n",
    "print(quadrado.getLado())\n",
    "quadrado.setLado(4)\n",
    "quadrado.area()"
   ]
  },
  {
   "cell_type": "code",
   "execution_count": null,
   "id": "2507b892",
   "metadata": {},
   "outputs": [],
   "source": []
  }
 ],
 "metadata": {
  "kernelspec": {
   "display_name": "Python 3 (ipykernel)",
   "language": "python",
   "name": "python3"
  },
  "language_info": {
   "codemirror_mode": {
    "name": "ipython",
    "version": 3
   },
   "file_extension": ".py",
   "mimetype": "text/x-python",
   "name": "python",
   "nbconvert_exporter": "python",
   "pygments_lexer": "ipython3",
   "version": "3.11.3"
  }
 },
 "nbformat": 4,
 "nbformat_minor": 5
}
