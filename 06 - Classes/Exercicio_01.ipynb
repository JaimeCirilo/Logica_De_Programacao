{
 "cells": [
  {
   "cell_type": "code",
   "execution_count": 3,
   "id": "caed8000",
   "metadata": {},
   "outputs": [
    {
     "name": "stdout",
     "output_type": "stream",
     "text": [
      "amarelo\n",
      "Azul\n"
     ]
    }
   ],
   "source": [
    "class Bola():\n",
    "    def __init__(self, cor, circunferencia, material):\n",
    "        self.cor = cor\n",
    "        self.circunferencia = circunferencia\n",
    "        self.material = material\n",
    "    \n",
    "    def trocaCor(self, novaCor):\n",
    "        self.cor = novaCor\n",
    "    \n",
    "    def mostraCor(self):\n",
    "        print(self.cor)\n",
    "        \n",
    "        \n",
    "bola = Bola(\"amarelo\", 12, \"Couro\")\n",
    "bola.mostraCor()\n",
    "bola.trocaCor(\"Azul\")\n",
    "bola.mostraCor()\n"
   ]
  },
  {
   "cell_type": "code",
   "execution_count": null,
   "id": "e47610a8",
   "metadata": {},
   "outputs": [],
   "source": []
  }
 ],
 "metadata": {
  "kernelspec": {
   "display_name": "Python 3 (ipykernel)",
   "language": "python",
   "name": "python3"
  },
  "language_info": {
   "codemirror_mode": {
    "name": "ipython",
    "version": 3
   },
   "file_extension": ".py",
   "mimetype": "text/x-python",
   "name": "python",
   "nbconvert_exporter": "python",
   "pygments_lexer": "ipython3",
   "version": "3.11.3"
  }
 },
 "nbformat": 4,
 "nbformat_minor": 5
}
