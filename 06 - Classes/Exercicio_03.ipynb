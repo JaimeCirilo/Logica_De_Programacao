{
 "cells": [
  {
   "cell_type": "code",
   "execution_count": 5,
   "id": "2d4b2d18",
   "metadata": {},
   "outputs": [
    {
     "name": "stdout",
     "output_type": "stream",
     "text": [
      "(2, 3)\n",
      "20\n",
      "18\n",
      "{'ladoA': 4, 'ladoB': 5}\n"
     ]
    }
   ],
   "source": [
    "class Retangulo():\n",
    "    def __init__(self, ladoA, ladoB):\n",
    "        self.ladoA = ladoA\n",
    "        self.ladoB = ladoB\n",
    "        \n",
    "    def setLados(self, novoLadoA, novoLadoB):\n",
    "        self.ladoA = novoLadoA\n",
    "        self.ladoB = novoLadoB\n",
    "    \n",
    "    def getLados(self):\n",
    "        return self.ladoA, self.ladoB\n",
    "    \n",
    "    def area(self):\n",
    "        area = self.ladoA * self.ladoB\n",
    "        return area\n",
    "    \n",
    "    def perimetro(self):\n",
    "        perimetro = self.ladoA*2 + self.ladoB*2\n",
    "        return perimetro\n",
    "      \n",
    "\n",
    "retangulo = Retangulo(2,3)\n",
    "print(retangulo.getLados())\n",
    "retangulo.setLados(4,5)\n",
    "print(retangulo.area())\n",
    "print(retangulo.perimetro())\n",
    "print(retangulo.__dict__)"
   ]
  },
  {
   "cell_type": "code",
   "execution_count": null,
   "id": "36bf549e",
   "metadata": {},
   "outputs": [],
   "source": []
  }
 ],
 "metadata": {
  "kernelspec": {
   "display_name": "Python 3 (ipykernel)",
   "language": "python",
   "name": "python3"
  },
  "language_info": {
   "codemirror_mode": {
    "name": "ipython",
    "version": 3
   },
   "file_extension": ".py",
   "mimetype": "text/x-python",
   "name": "python",
   "nbconvert_exporter": "python",
   "pygments_lexer": "ipython3",
   "version": "3.11.3"
  }
 },
 "nbformat": 4,
 "nbformat_minor": 5
}
