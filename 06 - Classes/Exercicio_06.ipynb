{
 "cells": [
  {
   "cell_type": "code",
   "execution_count": 19,
   "id": "d2207757",
   "metadata": {},
   "outputs": [
    {
     "name": "stdout",
     "output_type": "stream",
     "text": [
      "A TV FOI LIGADA!\n",
      "TV: True\n",
      "VOLUME: 0\n",
      "Aumentando Volume!\n",
      "TV: True\n",
      "VOLUME: 10\n",
      "Aumentando Volume!\n",
      "TV: True\n",
      "VOLUME: 9\n",
      "A TV FOI DESLIGADA!\n",
      "NÃO É POSSIVEL AUMENTAR O VOLUME!\n",
      "A TV ESTÁ DESLIGADA!\n",
      "NÃO É POSSIVEL BAIXAR O VOLUME!\n",
      "A TV ESTÁ DESLIGADA!\n"
     ]
    }
   ],
   "source": [
    "class tv():\n",
    "    def __init__(self, esta_ligada=False, volume=0):\n",
    "        self.esta_ligada = esta_ligada\n",
    "        self.volume = volume\n",
    "    \n",
    "    def ligarTv(self):\n",
    "        print(\"A TV FOI LIGADA!\")\n",
    "        self.esta_ligada = True\n",
    "    \n",
    "    def desligarTv(self):\n",
    "        print(\"A TV FOI DESLIGADA!\")\n",
    "        self.volume = 0\n",
    "        self.esta_ligada = False\n",
    "        \n",
    "    def aumentarVol(self, volume = 1):\n",
    "        if(self.esta_ligada):\n",
    "            print(\"Aumentando Volume!\")\n",
    "            self.volume += volume\n",
    "        else:\n",
    "            print(\"NÃO É POSSIVEL AUMENTAR O VOLUME!\")\n",
    "            print(\"A TV ESTÁ DESLIGADA!\")\n",
    "    \n",
    "    def diminuiVol(self, volume = 1):\n",
    "        if(self.esta_ligada):\n",
    "            print(\"Aumentando Volume!\")\n",
    "            self.volume -= volume\n",
    "        else:\n",
    "            print(\"NÃO É POSSIVEL BAIXAR O VOLUME!\")\n",
    "            print(\"A TV ESTÁ DESLIGADA!\")\n",
    "    def statusTv(self):\n",
    "        print(f\"TV: {self.esta_ligada}\")\n",
    "        print(f\"VOLUME: {self.volume}\")\n",
    "\n",
    "televisao = tv()\n",
    "televisao.ligarTv()\n",
    "televisao.statusTv()\n",
    "televisao.aumentarVol(10)\n",
    "televisao.statusTv()\n",
    "televisao.diminuiVol()\n",
    "televisao.statusTv()\n",
    "televisao.desligarTv()\n",
    "televisao.aumentarVol(10)\n",
    "televisao.diminuiVol()\n",
    "\n",
    "\n"
   ]
  },
  {
   "cell_type": "code",
   "execution_count": null,
   "id": "9edb03b1",
   "metadata": {},
   "outputs": [],
   "source": []
  }
 ],
 "metadata": {
  "kernelspec": {
   "display_name": "Python 3 (ipykernel)",
   "language": "python",
   "name": "python3"
  },
  "language_info": {
   "codemirror_mode": {
    "name": "ipython",
    "version": 3
   },
   "file_extension": ".py",
   "mimetype": "text/x-python",
   "name": "python",
   "nbconvert_exporter": "python",
   "pygments_lexer": "ipython3",
   "version": "3.11.3"
  }
 },
 "nbformat": 4,
 "nbformat_minor": 5
}
